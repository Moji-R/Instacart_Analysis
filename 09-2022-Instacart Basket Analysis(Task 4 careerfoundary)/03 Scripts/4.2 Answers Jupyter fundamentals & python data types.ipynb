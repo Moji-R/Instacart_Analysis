{
 "cells": [
  {
   "cell_type": "markdown",
   "id": "f43c7513",
   "metadata": {},
   "source": [
    "# 01. Importing Libraries"
   ]
  },
  {
   "cell_type": "code",
   "execution_count": 2,
   "id": "acb99b61",
   "metadata": {},
   "outputs": [],
   "source": [
    "# import libraries\n",
    "import pandas as pd\n",
    "import numpy as np\n",
    "import os"
   ]
  },
  {
   "cell_type": "markdown",
   "id": "efa5f538",
   "metadata": {},
   "source": [
    "# 02. Data Types"
   ]
  },
  {
   "cell_type": "code",
   "execution_count": 3,
   "id": "2fd8af67",
   "metadata": {},
   "outputs": [],
   "source": [
    "x=50+50"
   ]
  },
  {
   "cell_type": "code",
   "execution_count": 4,
   "id": "afab5d0c",
   "metadata": {},
   "outputs": [
    {
     "name": "stdout",
     "output_type": "stream",
     "text": [
      "100\n"
     ]
    }
   ],
   "source": [
    "print(x)"
   ]
  },
  {
   "cell_type": "code",
   "execution_count": 5,
   "id": "53c540db",
   "metadata": {},
   "outputs": [],
   "source": [
    "y=200"
   ]
  },
  {
   "cell_type": "code",
   "execution_count": 6,
   "id": "5dee01f8",
   "metadata": {},
   "outputs": [
    {
     "name": "stdout",
     "output_type": "stream",
     "text": [
      "100\n"
     ]
    }
   ],
   "source": [
    "print(y-x)"
   ]
  },
  {
   "cell_type": "code",
   "execution_count": 7,
   "id": "ee4ce5e5",
   "metadata": {},
   "outputs": [],
   "source": [
    "x=x+100-100"
   ]
  },
  {
   "cell_type": "code",
   "execution_count": 8,
   "id": "a1b0e5ad",
   "metadata": {},
   "outputs": [
    {
     "name": "stdout",
     "output_type": "stream",
     "text": [
      "100\n"
     ]
    }
   ],
   "source": [
    "print(x)"
   ]
  },
  {
   "cell_type": "code",
   "execution_count": 9,
   "id": "938c97f5",
   "metadata": {},
   "outputs": [],
   "source": [
    "z=4.99"
   ]
  },
  {
   "cell_type": "code",
   "execution_count": 11,
   "id": "517dc6ad",
   "metadata": {},
   "outputs": [],
   "source": [
    "n=2.99"
   ]
  },
  {
   "cell_type": "code",
   "execution_count": 13,
   "id": "db2346f4",
   "metadata": {},
   "outputs": [
    {
     "data": {
      "text/plain": [
       "1.6688963210702341"
      ]
     },
     "execution_count": 13,
     "metadata": {},
     "output_type": "execute_result"
    }
   ],
   "source": [
    "z/n"
   ]
  },
  {
   "cell_type": "code",
   "execution_count": 22,
   "id": "078ce412",
   "metadata": {},
   "outputs": [],
   "source": [
    "a= 'you'"
   ]
  },
  {
   "cell_type": "code",
   "execution_count": 23,
   "id": "b82b116b",
   "metadata": {},
   "outputs": [],
   "source": [
    "b= ' are'"
   ]
  },
  {
   "cell_type": "code",
   "execution_count": 16,
   "id": "8c431c35",
   "metadata": {},
   "outputs": [],
   "source": [
    "c= ' welcome!'"
   ]
  },
  {
   "cell_type": "code",
   "execution_count": 24,
   "id": "016f2937",
   "metadata": {},
   "outputs": [
    {
     "data": {
      "text/plain": [
       "'you are welcome!'"
      ]
     },
     "execution_count": 24,
     "metadata": {},
     "output_type": "execute_result"
    }
   ],
   "source": [
    "a+b+c"
   ]
  },
  {
   "cell_type": "code",
   "execution_count": 25,
   "id": "2da224fa",
   "metadata": {},
   "outputs": [],
   "source": [
    "d= 'I hope you are fine, '"
   ]
  },
  {
   "cell_type": "code",
   "execution_count": 26,
   "id": "b2e20101",
   "metadata": {},
   "outputs": [],
   "source": [
    "e= 'anything I can do?'"
   ]
  },
  {
   "cell_type": "code",
   "execution_count": 27,
   "id": "24f8ba5f",
   "metadata": {},
   "outputs": [
    {
     "data": {
      "text/plain": [
       "'I hope you are fine, anything I can do?'"
      ]
     },
     "execution_count": 27,
     "metadata": {},
     "output_type": "execute_result"
    }
   ],
   "source": [
    "d+e"
   ]
  },
  {
   "cell_type": "code",
   "execution_count": 28,
   "id": "ae5de114",
   "metadata": {},
   "outputs": [
    {
     "data": {
      "text/plain": [
       "'youyouyouyouyouyouyouyouyouyouyouyouyouyouyouyouyouyouyouyouyouyouyouyouyouyouyouyouyouyouyouyouyouyouyouyouyouyouyouyouyouyouyouyouyouyouyouyouyouyouyouyouyouyouyouyouyouyouyouyouyouyouyouyouyouyouyouyouyouyouyouyouyouyouyouyouyouyouyouyouyouyouyouyouyouyouyouyouyouyouyouyouyouyouyouyouyouyouyouyou'"
      ]
     },
     "execution_count": 28,
     "metadata": {},
     "output_type": "execute_result"
    }
   ],
   "source": [
    "100*a"
   ]
  },
  {
   "cell_type": "code",
   "execution_count": null,
   "id": "6f2f3693",
   "metadata": {},
   "outputs": [],
   "source": []
  }
 ],
 "metadata": {
  "kernelspec": {
   "display_name": "Python 3 (ipykernel)",
   "language": "python",
   "name": "python3"
  },
  "language_info": {
   "codemirror_mode": {
    "name": "ipython",
    "version": 3
   },
   "file_extension": ".py",
   "mimetype": "text/x-python",
   "name": "python",
   "nbconvert_exporter": "python",
   "pygments_lexer": "ipython3",
   "version": "3.9.12"
  }
 },
 "nbformat": 4,
 "nbformat_minor": 5
}
