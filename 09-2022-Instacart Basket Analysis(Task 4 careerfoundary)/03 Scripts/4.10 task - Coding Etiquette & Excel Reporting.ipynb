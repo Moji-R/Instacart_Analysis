{
 "cells": [
  {
   "cell_type": "markdown",
   "id": "02054d1a",
   "metadata": {},
   "source": [
    "## Table of contents\n",
    " 1. Import libraries and Data\n",
    " 2. Data Checks\n",
    " 3. Addressing any PII data\n",
    " 4. Create region flag from state\n",
    "    \n",
    "    4b. spending/ordering habits between the different U.S. regions\n",
    "  \n",
    "    4C. Visualization for spending and ordering habits between the           different U.S. regions\n",
    "    \n",
    "    4d. Exporting Visualization for spending and ordering/region\n",
    "   \n",
    " \n",
    " 5. Creating an Exclusion flag for low-activity customer(<5 orders)\n",
    " 6. Customer profiling\n",
    " 7. Visualization to show distribution of profiles\n",
    "    \n",
    "    7b. Exporting visualization for customers profiles distribution\n",
    " \n",
    " \n",
    " 8. Aggregate the max, mean, and min variables on a customer-  profile level for usage frequency and expenditure.\n",
    " 9. Compare customer profiles with regions and departments \n",
    " 10. Other suitable charts.\n",
    "    \n",
    "     10a. customers'profile to frequency of order\n",
    "     \n",
    "     10b. Frequency of product orders visualization\n",
    "     \n",
    "     10c. Customers' loyalty and spender visualization\n",
    "     \n",
    "     10d. Exporting visuals and final datasets\n",
    "      "
   ]
  },
  {
   "cell_type": "markdown",
   "id": "ca8cf3d3",
   "metadata": {},
   "source": [
    "### 1. Import libraries and Data"
   ]
  },
  {
   "cell_type": "code",
   "execution_count": 1,
   "id": "6c8691d0",
   "metadata": {},
   "outputs": [],
   "source": [
    "# Import libraries\n",
    "\n",
    "import pandas as pd\n",
    "import numpy as np\n",
    "import os\n",
    "import matplotlib.pyplot as plt\n",
    "import seaborn as sns\n",
    "import scipy"
   ]
  },
  {
   "cell_type": "code",
   "execution_count": 2,
   "id": "fec12502",
   "metadata": {},
   "outputs": [],
   "source": [
    "# create path folder as 'path'\n",
    "path = r'C:\\Users\\mojis\\Documents\\09-2022-Instacart Basket Analysis(Task 4 careerfoundary)'"
   ]
  },
  {
   "cell_type": "code",
   "execution_count": 3,
   "id": "d53ca35c",
   "metadata": {},
   "outputs": [],
   "source": [
    "# import merged version dataframe\n",
    "ords_prods_cus = pd.read_pickle(os.path.join(path,'02 Data','Prepared Data(cleaned)','orders_products_customers.pkl'))"
   ]
  },
  {
   "cell_type": "markdown",
   "id": "d34c6b1a",
   "metadata": {},
   "source": [
    "### 2. Data Checks"
   ]
  },
  {
   "cell_type": "code",
   "execution_count": 4,
   "id": "0f5e5fde",
   "metadata": {},
   "outputs": [
    {
     "data": {
      "text/plain": [
       "(32404859, 33)"
      ]
     },
     "execution_count": 4,
     "metadata": {},
     "output_type": "execute_result"
    }
   ],
   "source": [
    "# checking dimension\n",
    "ords_prods_cus.shape"
   ]
  },
  {
   "cell_type": "code",
   "execution_count": 5,
   "id": "4faae336",
   "metadata": {},
   "outputs": [
    {
     "data": {
      "text/html": [
       "<div>\n",
       "<style scoped>\n",
       "    .dataframe tbody tr th:only-of-type {\n",
       "        vertical-align: middle;\n",
       "    }\n",
       "\n",
       "    .dataframe tbody tr th {\n",
       "        vertical-align: top;\n",
       "    }\n",
       "\n",
       "    .dataframe thead th {\n",
       "        text-align: right;\n",
       "    }\n",
       "</style>\n",
       "<table border=\"1\" class=\"dataframe\">\n",
       "  <thead>\n",
       "    <tr style=\"text-align: right;\">\n",
       "      <th></th>\n",
       "      <th>product_id</th>\n",
       "      <th>product_name</th>\n",
       "      <th>aisle_id</th>\n",
       "      <th>department_id</th>\n",
       "      <th>prices</th>\n",
       "      <th>order_id</th>\n",
       "      <th>user_id</th>\n",
       "      <th>order_number</th>\n",
       "      <th>orders_day_of_week</th>\n",
       "      <th>order_hour_of_day</th>\n",
       "      <th>...</th>\n",
       "      <th>order_frequency_flag</th>\n",
       "      <th>first_name</th>\n",
       "      <th>last_name</th>\n",
       "      <th>gender</th>\n",
       "      <th>state</th>\n",
       "      <th>age</th>\n",
       "      <th>date_joined</th>\n",
       "      <th>no_of_dependents</th>\n",
       "      <th>marital_status</th>\n",
       "      <th>income</th>\n",
       "    </tr>\n",
       "  </thead>\n",
       "  <tbody>\n",
       "    <tr>\n",
       "      <th>0</th>\n",
       "      <td>1</td>\n",
       "      <td>Chocolate Sandwich Cookies</td>\n",
       "      <td>61</td>\n",
       "      <td>19</td>\n",
       "      <td>5.8</td>\n",
       "      <td>3139998</td>\n",
       "      <td>138</td>\n",
       "      <td>28</td>\n",
       "      <td>6</td>\n",
       "      <td>11</td>\n",
       "      <td>...</td>\n",
       "      <td>Frequent customer</td>\n",
       "      <td>Charles</td>\n",
       "      <td>Cox</td>\n",
       "      <td>Male</td>\n",
       "      <td>Minnesota</td>\n",
       "      <td>81</td>\n",
       "      <td>8/1/2019</td>\n",
       "      <td>1</td>\n",
       "      <td>married</td>\n",
       "      <td>49620</td>\n",
       "    </tr>\n",
       "    <tr>\n",
       "      <th>1</th>\n",
       "      <td>1</td>\n",
       "      <td>Chocolate Sandwich Cookies</td>\n",
       "      <td>61</td>\n",
       "      <td>19</td>\n",
       "      <td>5.8</td>\n",
       "      <td>1977647</td>\n",
       "      <td>138</td>\n",
       "      <td>30</td>\n",
       "      <td>6</td>\n",
       "      <td>17</td>\n",
       "      <td>...</td>\n",
       "      <td>Frequent customer</td>\n",
       "      <td>Charles</td>\n",
       "      <td>Cox</td>\n",
       "      <td>Male</td>\n",
       "      <td>Minnesota</td>\n",
       "      <td>81</td>\n",
       "      <td>8/1/2019</td>\n",
       "      <td>1</td>\n",
       "      <td>married</td>\n",
       "      <td>49620</td>\n",
       "    </tr>\n",
       "    <tr>\n",
       "      <th>2</th>\n",
       "      <td>907</td>\n",
       "      <td>Premium Sliced Bacon</td>\n",
       "      <td>106</td>\n",
       "      <td>12</td>\n",
       "      <td>20.0</td>\n",
       "      <td>3160996</td>\n",
       "      <td>138</td>\n",
       "      <td>1</td>\n",
       "      <td>5</td>\n",
       "      <td>13</td>\n",
       "      <td>...</td>\n",
       "      <td>Frequent customer</td>\n",
       "      <td>Charles</td>\n",
       "      <td>Cox</td>\n",
       "      <td>Male</td>\n",
       "      <td>Minnesota</td>\n",
       "      <td>81</td>\n",
       "      <td>8/1/2019</td>\n",
       "      <td>1</td>\n",
       "      <td>married</td>\n",
       "      <td>49620</td>\n",
       "    </tr>\n",
       "    <tr>\n",
       "      <th>3</th>\n",
       "      <td>907</td>\n",
       "      <td>Premium Sliced Bacon</td>\n",
       "      <td>106</td>\n",
       "      <td>12</td>\n",
       "      <td>20.0</td>\n",
       "      <td>2254091</td>\n",
       "      <td>138</td>\n",
       "      <td>10</td>\n",
       "      <td>5</td>\n",
       "      <td>14</td>\n",
       "      <td>...</td>\n",
       "      <td>Frequent customer</td>\n",
       "      <td>Charles</td>\n",
       "      <td>Cox</td>\n",
       "      <td>Male</td>\n",
       "      <td>Minnesota</td>\n",
       "      <td>81</td>\n",
       "      <td>8/1/2019</td>\n",
       "      <td>1</td>\n",
       "      <td>married</td>\n",
       "      <td>49620</td>\n",
       "    </tr>\n",
       "    <tr>\n",
       "      <th>4</th>\n",
       "      <td>1000</td>\n",
       "      <td>Apricots</td>\n",
       "      <td>18</td>\n",
       "      <td>10</td>\n",
       "      <td>12.9</td>\n",
       "      <td>505689</td>\n",
       "      <td>138</td>\n",
       "      <td>9</td>\n",
       "      <td>6</td>\n",
       "      <td>12</td>\n",
       "      <td>...</td>\n",
       "      <td>Frequent customer</td>\n",
       "      <td>Charles</td>\n",
       "      <td>Cox</td>\n",
       "      <td>Male</td>\n",
       "      <td>Minnesota</td>\n",
       "      <td>81</td>\n",
       "      <td>8/1/2019</td>\n",
       "      <td>1</td>\n",
       "      <td>married</td>\n",
       "      <td>49620</td>\n",
       "    </tr>\n",
       "  </tbody>\n",
       "</table>\n",
       "<p>5 rows × 33 columns</p>\n",
       "</div>"
      ],
      "text/plain": [
       "   product_id                product_name  aisle_id  department_id  prices  \\\n",
       "0           1  Chocolate Sandwich Cookies        61             19     5.8   \n",
       "1           1  Chocolate Sandwich Cookies        61             19     5.8   \n",
       "2         907        Premium Sliced Bacon       106             12    20.0   \n",
       "3         907        Premium Sliced Bacon       106             12    20.0   \n",
       "4        1000                    Apricots        18             10    12.9   \n",
       "\n",
       "   order_id user_id  order_number  orders_day_of_week  order_hour_of_day  ...  \\\n",
       "0   3139998     138            28                   6                 11  ...   \n",
       "1   1977647     138            30                   6                 17  ...   \n",
       "2   3160996     138             1                   5                 13  ...   \n",
       "3   2254091     138            10                   5                 14  ...   \n",
       "4    505689     138             9                   6                 12  ...   \n",
       "\n",
       "   order_frequency_flag  first_name  last_name gender      state age  \\\n",
       "0     Frequent customer     Charles        Cox   Male  Minnesota  81   \n",
       "1     Frequent customer     Charles        Cox   Male  Minnesota  81   \n",
       "2     Frequent customer     Charles        Cox   Male  Minnesota  81   \n",
       "3     Frequent customer     Charles        Cox   Male  Minnesota  81   \n",
       "4     Frequent customer     Charles        Cox   Male  Minnesota  81   \n",
       "\n",
       "  date_joined no_of_dependents  marital_status income  \n",
       "0    8/1/2019                1         married  49620  \n",
       "1    8/1/2019                1         married  49620  \n",
       "2    8/1/2019                1         married  49620  \n",
       "3    8/1/2019                1         married  49620  \n",
       "4    8/1/2019                1         married  49620  \n",
       "\n",
       "[5 rows x 33 columns]"
      ]
     },
     "execution_count": 5,
     "metadata": {},
     "output_type": "execute_result"
    }
   ],
   "source": [
    "# checking the first few rows and columns\n",
    "ords_prods_cus.head()"
   ]
  },
  {
   "cell_type": "code",
   "execution_count": 6,
   "id": "fc2eeecc",
   "metadata": {},
   "outputs": [
    {
     "name": "stdout",
     "output_type": "stream",
     "text": [
      "<class 'pandas.core.frame.DataFrame'>\n",
      "Int64Index: 32404859 entries, 0 to 32404858\n",
      "Data columns (total 33 columns):\n",
      " #   Column                         Dtype   \n",
      "---  ------                         -----   \n",
      " 0   product_id                     int64   \n",
      " 1   product_name                   object  \n",
      " 2   aisle_id                       int64   \n",
      " 3   department_id                  int64   \n",
      " 4   prices                         float64 \n",
      " 5   order_id                       int64   \n",
      " 6   user_id                        object  \n",
      " 7   order_number                   int64   \n",
      " 8   orders_day_of_week             int64   \n",
      " 9   order_hour_of_day              int64   \n",
      " 10  days_since_prior_order         float64 \n",
      " 11  add_to_cart_order              int64   \n",
      " 12  reordered                      int64   \n",
      " 13  _merge                         category\n",
      " 14  price_range_loc                object  \n",
      " 15  busiest_day                    object  \n",
      " 16  Busiest_days                   object  \n",
      " 17  Busiest_period_of_day          object  \n",
      " 18  max_order                      int64   \n",
      " 19  loyalty_flag                   object  \n",
      " 20  Average_prices                 float64 \n",
      " 21  spender_flag                   object  \n",
      " 22  median_days_since_prior_order  float64 \n",
      " 23  order_frequency_flag           object  \n",
      " 24  first_name                     object  \n",
      " 25  last_name                      object  \n",
      " 26  gender                         object  \n",
      " 27  state                          object  \n",
      " 28  age                            int64   \n",
      " 29  date_joined                    object  \n",
      " 30  no_of_dependents               int64   \n",
      " 31  marital_status                 object  \n",
      " 32  income                         int64   \n",
      "dtypes: category(1), float64(4), int64(13), object(15)\n",
      "memory usage: 8.0+ GB\n"
     ]
    }
   ],
   "source": [
    "ords_prods_cus.info()"
   ]
  },
  {
   "cell_type": "markdown",
   "id": "45a1b47b",
   "metadata": {},
   "source": [
    "### 3. Addressing any PII data(Personal Identifiable information) for security purpose"
   ]
  },
  {
   "cell_type": "code",
   "execution_count": 7,
   "id": "0f40322a",
   "metadata": {},
   "outputs": [],
   "source": [
    "# use drop function to drop first_name & last_name columns\n",
    "ords_prods_cus.drop(['first_name','last_name'], inplace=True, axis =1)"
   ]
  },
  {
   "cell_type": "code",
   "execution_count": 8,
   "id": "bd1f17d2",
   "metadata": {},
   "outputs": [
    {
     "data": {
      "text/plain": [
       "(32404859, 31)"
      ]
     },
     "execution_count": 8,
     "metadata": {},
     "output_type": "execute_result"
    }
   ],
   "source": [
    "# checking new dimension\n",
    "ords_prods_cus.shape"
   ]
  },
  {
   "cell_type": "markdown",
   "id": "7ec61808",
   "metadata": {},
   "source": [
    "###### first and last name colunms have been successfully removed"
   ]
  },
  {
   "cell_type": "markdown",
   "id": "9c8c3d0b",
   "metadata": {},
   "source": [
    "####  4. using crosstab to confirm hypothesis(Missing values from days_since prior_order fall where order number is equal to 1"
   ]
  },
  {
   "cell_type": "code",
   "execution_count": 9,
   "id": "67ef4f42",
   "metadata": {},
   "outputs": [],
   "source": [
    "#creating crosstab for days_since_prior_order & order_number\n",
    "crosstab = pd.crosstab(ords_prods_cus['days_since_prior_order'], ords_prods_cus['order_number'], dropna = False)"
   ]
  },
  {
   "cell_type": "code",
   "execution_count": 10,
   "id": "9558f648",
   "metadata": {},
   "outputs": [],
   "source": [
    "#Copying result to clipboard\n",
    "crosstab.to_clipboard()\n"
   ]
  },
  {
   "cell_type": "markdown",
   "id": "ae9a6d6a",
   "metadata": {},
   "source": [
    "### 4. Create region flag from state"
   ]
  },
  {
   "cell_type": "code",
   "execution_count": 11,
   "id": "4c1123bc",
   "metadata": {},
   "outputs": [
    {
     "data": {
      "text/plain": [
       "Pennsylvania            667082\n",
       "California              659783\n",
       "Rhode Island            656913\n",
       "Georgia                 656389\n",
       "New Mexico              654494\n",
       "Arizona                 653964\n",
       "North Carolina          651900\n",
       "Oklahoma                651739\n",
       "Alaska                  648495\n",
       "Minnesota               647825\n",
       "Massachusetts           646358\n",
       "Wyoming                 644255\n",
       "Virginia                641421\n",
       "Missouri                640732\n",
       "Texas                   640394\n",
       "Colorado                639280\n",
       "Maine                   638583\n",
       "North Dakota            638491\n",
       "Alabama                 638003\n",
       "Kansas                  637538\n",
       "Louisiana               637482\n",
       "Delaware                637024\n",
       "South Carolina          636754\n",
       "Oregon                  636425\n",
       "Arkansas                636144\n",
       "Nevada                  636139\n",
       "New York                635983\n",
       "Montana                 635265\n",
       "South Dakota            633772\n",
       "Illinois                633024\n",
       "Hawaii                  632901\n",
       "Washington              632852\n",
       "Mississippi             632675\n",
       "Kentucky                632490\n",
       "Michigan                630928\n",
       "Florida                 629027\n",
       "Ohio                    628319\n",
       "Wisconsin               628108\n",
       "New Jersey              627692\n",
       "Indiana                 627282\n",
       "Maryland                626579\n",
       "Nebraska                625813\n",
       "Iowa                    625493\n",
       "Connecticut             623022\n",
       "Tennessee               617873\n",
       "New Hampshire           615378\n",
       "District of Columbia    613695\n",
       "West Virginia           612296\n",
       "Utah                    611941\n",
       "Vermont                 611725\n",
       "Idaho                   607119\n",
       "Name: state, dtype: int64"
      ]
     },
     "execution_count": 11,
     "metadata": {},
     "output_type": "execute_result"
    }
   ],
   "source": [
    "# checking state column frequency\n",
    "ords_prods_cus['state'].value_counts(dropna = False)"
   ]
  },
  {
   "cell_type": "code",
   "execution_count": 12,
   "id": "b6b7a85c",
   "metadata": {},
   "outputs": [],
   "source": [
    "# using loc function to categorize state in Northeast region\n",
    "ords_prods_cus.loc[ords_prods_cus['state'].isin(['Maine', 'New Hampshire', 'Vermont', 'Massachusetts', 'Rhode Island', \n",
    "             'Connecticut', 'New York', 'Pennsylvania', 'New Jersey']),'region'] = 'Northeast Region'"
   ]
  },
  {
   "cell_type": "code",
   "execution_count": 13,
   "id": "86edcea2",
   "metadata": {},
   "outputs": [],
   "source": [
    "# using loc function to categorize state in Midwest region\n",
    "ords_prods_cus.loc[ords_prods_cus['state'].isin(['Wisconsin', 'Michigan', 'Illinois', 'Indiana', 'Ohio',\n",
    "          'North Dakota', 'South Dakota', 'Nebraska', 'Kansas',\n",
    "          'Minnesota', 'Iowa', 'Missouri']),'region'] = 'Midwest Region'"
   ]
  },
  {
   "cell_type": "code",
   "execution_count": 14,
   "id": "08d13550",
   "metadata": {},
   "outputs": [],
   "source": [
    "# using loc function to categorize state in South region\n",
    "ords_prods_cus.loc[ords_prods_cus['state'].isin(['Delaware', 'Maryland', 'District of Columbia', 'Virginia', 'West Virginia',\n",
    "         'North Carolina', 'South Carolina', 'Georgia', 'Florida', 'Kentucky', 'Tennessee',\n",
    "         'Mississippi', 'Alabama', 'Oklahoma', 'Texas', 'Arkansas', 'Louisiana']),'region'] = 'South Region'"
   ]
  },
  {
   "cell_type": "code",
   "execution_count": 15,
   "id": "0bf77958",
   "metadata": {},
   "outputs": [],
   "source": [
    "# using loc function to categorize state in Northeast region\n",
    "ords_prods_cus.loc[ords_prods_cus['state'].isin(['Idaho', 'Montana', 'Wyoming', 'Nevada', 'Utah', 'Colorado', 'Arizona',\n",
    "        'New Mexico', 'Alaska', 'Washington', 'Oregon', 'California', 'Hawaii']),'region'] = 'West Region'"
   ]
  },
  {
   "cell_type": "code",
   "execution_count": 16,
   "id": "48952f19",
   "metadata": {},
   "outputs": [
    {
     "data": {
      "text/plain": [
       "South Region        10791885\n",
       "West Region          8292913\n",
       "Midwest Region       7597325\n",
       "Northeast Region     5722736\n",
       "Name: region, dtype: int64"
      ]
     },
     "execution_count": 16,
     "metadata": {},
     "output_type": "execute_result"
    }
   ],
   "source": [
    "# Checking frequency for Region column\n",
    "ords_prods_cus['region'].value_counts(dropna = False)"
   ]
  },
  {
   "cell_type": "code",
   "execution_count": 17,
   "id": "97ff20f3",
   "metadata": {},
   "outputs": [
    {
     "data": {
      "text/plain": [
       "32404859"
      ]
     },
     "execution_count": 17,
     "metadata": {},
     "output_type": "execute_result"
    }
   ],
   "source": [
    "#checking to see if all region records match dataframe\n",
    "10791885+8292913+7597325+5722736"
   ]
  },
  {
   "cell_type": "markdown",
   "id": "748424e0",
   "metadata": {},
   "source": [
    "### 4b. spending/ordering habits between the different U.S. regions"
   ]
  },
  {
   "cell_type": "code",
   "execution_count": 18,
   "id": "ca63eef9",
   "metadata": {},
   "outputs": [
    {
     "data": {
      "text/html": [
       "<div>\n",
       "<style scoped>\n",
       "    .dataframe tbody tr th:only-of-type {\n",
       "        vertical-align: middle;\n",
       "    }\n",
       "\n",
       "    .dataframe tbody tr th {\n",
       "        vertical-align: top;\n",
       "    }\n",
       "\n",
       "    .dataframe thead th {\n",
       "        text-align: right;\n",
       "    }\n",
       "</style>\n",
       "<table border=\"1\" class=\"dataframe\">\n",
       "  <thead>\n",
       "    <tr style=\"text-align: right;\">\n",
       "      <th></th>\n",
       "      <th>state</th>\n",
       "    </tr>\n",
       "    <tr>\n",
       "      <th>region</th>\n",
       "      <th></th>\n",
       "    </tr>\n",
       "  </thead>\n",
       "  <tbody>\n",
       "    <tr>\n",
       "      <th>South Region</th>\n",
       "      <td>17</td>\n",
       "    </tr>\n",
       "    <tr>\n",
       "      <th>West Region</th>\n",
       "      <td>13</td>\n",
       "    </tr>\n",
       "    <tr>\n",
       "      <th>Midwest Region</th>\n",
       "      <td>12</td>\n",
       "    </tr>\n",
       "    <tr>\n",
       "      <th>Northeast Region</th>\n",
       "      <td>9</td>\n",
       "    </tr>\n",
       "  </tbody>\n",
       "</table>\n",
       "</div>"
      ],
      "text/plain": [
       "                  state\n",
       "region                 \n",
       "South Region         17\n",
       "West Region          13\n",
       "Midwest Region       12\n",
       "Northeast Region      9"
      ]
     },
     "execution_count": 18,
     "metadata": {},
     "output_type": "execute_result"
    }
   ],
   "source": [
    "# firstly, checking no of states for each region as it could influence the no of orders/spending in a regionords_prods_cus[['region','state']].groupby('region').agg({'state': pd.Series.nunique,}).sort_values(by='state',\n",
    "\n",
    "ords_prods_cus[['region','state']].groupby('region').agg({'state': pd.Series.nunique,}).sort_values(by='state',\n",
    "                                                                                          ascending=False)                                                                           "
   ]
  },
  {
   "cell_type": "markdown",
   "id": "6d4d8a1c",
   "metadata": {},
   "source": [
    "###### South region has the most states while Northeast region has the least states"
   ]
  },
  {
   "cell_type": "code",
   "execution_count": 19,
   "id": "45f1472c",
   "metadata": {},
   "outputs": [
    {
     "data": {
      "text/html": [
       "<div>\n",
       "<style scoped>\n",
       "    .dataframe tbody tr th:only-of-type {\n",
       "        vertical-align: middle;\n",
       "    }\n",
       "\n",
       "    .dataframe tbody tr th {\n",
       "        vertical-align: top;\n",
       "    }\n",
       "\n",
       "    .dataframe thead th {\n",
       "        text-align: right;\n",
       "    }\n",
       "</style>\n",
       "<table border=\"1\" class=\"dataframe\">\n",
       "  <thead>\n",
       "    <tr style=\"text-align: right;\">\n",
       "      <th>spender_flag</th>\n",
       "      <th>High spender</th>\n",
       "      <th>Low spender</th>\n",
       "    </tr>\n",
       "    <tr>\n",
       "      <th>region</th>\n",
       "      <th></th>\n",
       "      <th></th>\n",
       "    </tr>\n",
       "  </thead>\n",
       "  <tbody>\n",
       "    <tr>\n",
       "      <th>Midwest Region</th>\n",
       "      <td>155975</td>\n",
       "      <td>7441350</td>\n",
       "    </tr>\n",
       "    <tr>\n",
       "      <th>Northeast Region</th>\n",
       "      <td>108225</td>\n",
       "      <td>5614511</td>\n",
       "    </tr>\n",
       "    <tr>\n",
       "      <th>South Region</th>\n",
       "      <td>209691</td>\n",
       "      <td>10582194</td>\n",
       "    </tr>\n",
       "    <tr>\n",
       "      <th>West Region</th>\n",
       "      <td>160354</td>\n",
       "      <td>8132559</td>\n",
       "    </tr>\n",
       "  </tbody>\n",
       "</table>\n",
       "</div>"
      ],
      "text/plain": [
       "spender_flag      High spender  Low spender\n",
       "region                                     \n",
       "Midwest Region          155975      7441350\n",
       "Northeast Region        108225      5614511\n",
       "South Region            209691     10582194\n",
       "West Region             160354      8132559"
      ]
     },
     "execution_count": 19,
     "metadata": {},
     "output_type": "execute_result"
    }
   ],
   "source": [
    "# Using crosstab to check the frequency of low and high spender to region\n",
    "crosstab_2 = pd.crosstab(ords_prods_cus['region'], ords_prods_cus['spender_flag'], dropna = False).sort_index()\n",
    "crosstab_2"
   ]
  },
  {
   "cell_type": "markdown",
   "id": "bcb03d66",
   "metadata": {},
   "source": [
    "###### Southeast region has the highest low and high spender while Northeast region has the least of both spender.\n",
    "###### Number of states to each region has influences in no of spender as region with more states will have more customers due to more population"
   ]
  },
  {
   "cell_type": "code",
   "execution_count": 20,
   "id": "b0f7123f",
   "metadata": {},
   "outputs": [
    {
     "data": {
      "text/html": [
       "<div>\n",
       "<style scoped>\n",
       "    .dataframe tbody tr th:only-of-type {\n",
       "        vertical-align: middle;\n",
       "    }\n",
       "\n",
       "    .dataframe tbody tr th {\n",
       "        vertical-align: top;\n",
       "    }\n",
       "\n",
       "    .dataframe thead th {\n",
       "        text-align: right;\n",
       "    }\n",
       "</style>\n",
       "<table border=\"1\" class=\"dataframe\">\n",
       "  <thead>\n",
       "    <tr style=\"text-align: right;\">\n",
       "      <th>order_frequency_flag</th>\n",
       "      <th>Frequent customer</th>\n",
       "      <th>Non-frequent customer</th>\n",
       "      <th>Regular customer</th>\n",
       "    </tr>\n",
       "    <tr>\n",
       "      <th>region</th>\n",
       "      <th></th>\n",
       "      <th></th>\n",
       "      <th></th>\n",
       "    </tr>\n",
       "  </thead>\n",
       "  <tbody>\n",
       "    <tr>\n",
       "      <th>Midwest Region</th>\n",
       "      <td>5017709</td>\n",
       "      <td>863419</td>\n",
       "      <td>1716197</td>\n",
       "    </tr>\n",
       "    <tr>\n",
       "      <th>Northeast Region</th>\n",
       "      <td>3804566</td>\n",
       "      <td>630182</td>\n",
       "      <td>1287988</td>\n",
       "    </tr>\n",
       "    <tr>\n",
       "      <th>South Region</th>\n",
       "      <td>7192372</td>\n",
       "      <td>1215088</td>\n",
       "      <td>2384420</td>\n",
       "    </tr>\n",
       "    <tr>\n",
       "      <th>West Region</th>\n",
       "      <td>5545206</td>\n",
       "      <td>927748</td>\n",
       "      <td>1819959</td>\n",
       "    </tr>\n",
       "  </tbody>\n",
       "</table>\n",
       "</div>"
      ],
      "text/plain": [
       "order_frequency_flag  Frequent customer  Non-frequent customer  \\\n",
       "region                                                           \n",
       "Midwest Region                  5017709                 863419   \n",
       "Northeast Region                3804566                 630182   \n",
       "South Region                    7192372                1215088   \n",
       "West Region                     5545206                 927748   \n",
       "\n",
       "order_frequency_flag  Regular customer  \n",
       "region                                  \n",
       "Midwest Region                 1716197  \n",
       "Northeast Region               1287988  \n",
       "South Region                   2384420  \n",
       "West Region                    1819959  "
      ]
     },
     "execution_count": 20,
     "metadata": {},
     "output_type": "execute_result"
    }
   ],
   "source": [
    "# Using crosstab to check order_frequency of customers to region\n",
    "crosstab_3 = pd.crosstab(ords_prods_cus['region'], ords_prods_cus['order_frequency_flag'], dropna = False).sort_index()\n",
    "crosstab_3"
   ]
  },
  {
   "cell_type": "markdown",
   "id": "2ca784b7",
   "metadata": {},
   "source": [
    "###### South region has the highest frequent customer while Northeast has the least"
   ]
  },
  {
   "cell_type": "code",
   "execution_count": 21,
   "id": "71aad5b8",
   "metadata": {},
   "outputs": [
    {
     "data": {
      "text/html": [
       "<div>\n",
       "<style scoped>\n",
       "    .dataframe tbody tr th:only-of-type {\n",
       "        vertical-align: middle;\n",
       "    }\n",
       "\n",
       "    .dataframe tbody tr th {\n",
       "        vertical-align: top;\n",
       "    }\n",
       "\n",
       "    .dataframe thead th {\n",
       "        text-align: right;\n",
       "    }\n",
       "</style>\n",
       "<table border=\"1\" class=\"dataframe\">\n",
       "  <thead>\n",
       "    <tr style=\"text-align: right;\">\n",
       "      <th>loyalty_flag</th>\n",
       "      <th>Loyal customer</th>\n",
       "      <th>New customer</th>\n",
       "      <th>Regular customer</th>\n",
       "    </tr>\n",
       "    <tr>\n",
       "      <th>region</th>\n",
       "      <th></th>\n",
       "      <th></th>\n",
       "      <th></th>\n",
       "    </tr>\n",
       "  </thead>\n",
       "  <tbody>\n",
       "    <tr>\n",
       "      <th>Midwest Region</th>\n",
       "      <td>2373774</td>\n",
       "      <td>1472573</td>\n",
       "      <td>3750978</td>\n",
       "    </tr>\n",
       "    <tr>\n",
       "      <th>Northeast Region</th>\n",
       "      <td>1841785</td>\n",
       "      <td>1100207</td>\n",
       "      <td>2780744</td>\n",
       "    </tr>\n",
       "    <tr>\n",
       "      <th>South Region</th>\n",
       "      <td>3405844</td>\n",
       "      <td>2074410</td>\n",
       "      <td>5311631</td>\n",
       "    </tr>\n",
       "    <tr>\n",
       "      <th>West Region</th>\n",
       "      <td>2662690</td>\n",
       "      <td>1596800</td>\n",
       "      <td>4033423</td>\n",
       "    </tr>\n",
       "  </tbody>\n",
       "</table>\n",
       "</div>"
      ],
      "text/plain": [
       "loyalty_flag      Loyal customer  New customer  Regular customer\n",
       "region                                                          \n",
       "Midwest Region           2373774       1472573           3750978\n",
       "Northeast Region         1841785       1100207           2780744\n",
       "South Region             3405844       2074410           5311631\n",
       "West Region              2662690       1596800           4033423"
      ]
     },
     "execution_count": 21,
     "metadata": {},
     "output_type": "execute_result"
    }
   ],
   "source": [
    "# using crosstab to check loyalty_flag to region\n",
    "crosstab_4 = pd.crosstab(ords_prods_cus['region'], ords_prods_cus['loyalty_flag'], dropna = False).sort_index()\n",
    "crosstab_4"
   ]
  },
  {
   "cell_type": "markdown",
   "id": "b04fe727",
   "metadata": {},
   "source": [
    "###### South region has highest loyal customers while North east region has the least"
   ]
  },
  {
   "cell_type": "code",
   "execution_count": 22,
   "id": "3c99c872",
   "metadata": {},
   "outputs": [
    {
     "data": {
      "text/html": [
       "<div>\n",
       "<style scoped>\n",
       "    .dataframe tbody tr th:only-of-type {\n",
       "        vertical-align: middle;\n",
       "    }\n",
       "\n",
       "    .dataframe tbody tr th {\n",
       "        vertical-align: top;\n",
       "    }\n",
       "\n",
       "    .dataframe thead th {\n",
       "        text-align: right;\n",
       "    }\n",
       "</style>\n",
       "<table border=\"1\" class=\"dataframe\">\n",
       "  <thead>\n",
       "    <tr style=\"text-align: right;\">\n",
       "      <th></th>\n",
       "      <th>Prices_total</th>\n",
       "      <th>Customer_count</th>\n",
       "      <th>Total_no_of_order</th>\n",
       "    </tr>\n",
       "    <tr>\n",
       "      <th>region</th>\n",
       "      <th></th>\n",
       "      <th></th>\n",
       "      <th></th>\n",
       "    </tr>\n",
       "  </thead>\n",
       "  <tbody>\n",
       "    <tr>\n",
       "      <th>Midwest Region</th>\n",
       "      <td>59192977.7</td>\n",
       "      <td>48519</td>\n",
       "      <td>128585728</td>\n",
       "    </tr>\n",
       "    <tr>\n",
       "      <th>Northeast Region</th>\n",
       "      <td>44530105.8</td>\n",
       "      <td>36388</td>\n",
       "      <td>98521079</td>\n",
       "    </tr>\n",
       "    <tr>\n",
       "      <th>South Region</th>\n",
       "      <td>84107910.4</td>\n",
       "      <td>68737</td>\n",
       "      <td>185091277</td>\n",
       "    </tr>\n",
       "    <tr>\n",
       "      <th>West Region</th>\n",
       "      <td>64595126.7</td>\n",
       "      <td>52565</td>\n",
       "      <td>143295881</td>\n",
       "    </tr>\n",
       "  </tbody>\n",
       "</table>\n",
       "</div>"
      ],
      "text/plain": [
       "                  Prices_total  Customer_count  Total_no_of_order\n",
       "region                                                           \n",
       "Midwest Region      59192977.7           48519          128585728\n",
       "Northeast Region    44530105.8           36388           98521079\n",
       "South Region        84107910.4           68737          185091277\n",
       "West Region         64595126.7           52565          143295881"
      ]
     },
     "execution_count": 22,
     "metadata": {},
     "output_type": "execute_result"
    }
   ],
   "source": [
    "# creating new df that Summarizes user_id,prices,& order_number by region using agg function\n",
    "df_region = ords_prods_cus[['prices', 'region', 'user_id', 'order_number']].groupby(['region']).agg(\n",
    "    {'prices':'sum', 'user_id': pd.Series.nunique, 'order_number':'sum'})\n",
    "df_region = df_region.rename(columns={'prices':'Prices_total', 'user_id': 'Customer_count', 'order_number': 'Total_no_of_order'})\n",
    "df_region"
   ]
  },
  {
   "cell_type": "markdown",
   "id": "7cde3fb8",
   "metadata": {},
   "source": [
    "###### South region has the highest total price spent, highest number of customer and highest total number of orders, while Northeast region has the least"
   ]
  },
  {
   "cell_type": "markdown",
   "id": "f6a06115",
   "metadata": {},
   "source": [
    "#### 4C. Visualization for spending and ordering habits between the different U.S. regions"
   ]
  },
  {
   "cell_type": "code",
   "execution_count": 23,
   "id": "ae62b902",
   "metadata": {},
   "outputs": [
    {
     "data": {
      "image/png": "[encoded data removed]",
      "text/plain": [
       "<Figure size 432x288 with 1 Axes>"
      ]
     },
     "metadata": {
      "needs_background": "light"
     },
     "output_type": "display_data"
    }
   ],
   "source": [
    "#regional distribution of customers\n",
    "bar_region=ords_prods_cus['region'].value_counts().plot.bar(color='forestgreen', fontsize=20)"
   ]
  },
  {
   "cell_type": "code",
   "execution_count": 24,
   "id": "df128ca6",
   "metadata": {},
   "outputs": [
    {
     "data": {
      "image/png": "[encoded data removed]",
      "text/plain": [
       "<Figure size 432x288 with 1 Axes>"
      ]
     },
     "metadata": {
      "needs_background": "light"
     },
     "output_type": "display_data"
    }
   ],
   "source": [
    "# Regional distribution of total price spent and total number of order\n",
    "df_region_bar=df_region[['Prices_total','Total_no_of_order']].plot(kind='bar',fontsize =16)"
   ]
  },
  {
   "cell_type": "markdown",
   "id": "62ace45c",
   "metadata": {},
   "source": [
    "### 4d. Exporting Visualization for spending and ordering/region"
   ]
  },
  {
   "cell_type": "code",
   "execution_count": 25,
   "id": "97467602",
   "metadata": {},
   "outputs": [],
   "source": [
    "# Export bar_region\n",
    "bar_region.figure.savefig(os.path.join(path, '04 Analysis','visualizations','bar_region.png'))"
   ]
  },
  {
   "cell_type": "code",
   "execution_count": 26,
   "id": "5ff32b88",
   "metadata": {},
   "outputs": [],
   "source": [
    "# Export df_region_bar\n",
    "df_region_bar.figure.savefig(os.path.join(path, '04 Analysis','visualizations','region_prices_order_bar.png'))"
   ]
  },
  {
   "cell_type": "markdown",
   "id": "a1419673",
   "metadata": {},
   "source": [
    "### 5. Creating an Exclusion flag for low-activity customer(< 5 orders)"
   ]
  },
  {
   "cell_type": "code",
   "execution_count": 27,
   "id": "a27141e7",
   "metadata": {},
   "outputs": [],
   "source": [
    "#first step is to Aggregate.\n",
    "# Aggregating user_id using count and grouping them by user_id\n",
    "ords_prods_cus['total_order'] = ords_prods_cus.groupby(['user_id'])['user_id'].transform('count')"
   ]
  },
  {
   "cell_type": "code",
   "execution_count": 28,
   "id": "beb33ed3",
   "metadata": {},
   "outputs": [],
   "source": [
    "# using if statement with For loop function\n",
    "# Looping the new column(total_orders) by categorizing it\n",
    "result = []\n",
    "\n",
    "for value in ords_prods_cus[\"total_order\"]:\n",
    "  if value < 5:\n",
    "    result.append(\"Low-Activity\")\n",
    "  else:\n",
    "    result.append(\"Regular Activity\")"
   ]
  },
  {
   "cell_type": "code",
   "execution_count": 29,
   "id": "62e2c35d",
   "metadata": {},
   "outputs": [],
   "source": [
    "#Creating a new column 'activity_flag' in dataframe = result\n",
    "ords_prods_cus['activity_flag']= result"
   ]
  },
  {
   "cell_type": "code",
   "execution_count": 30,
   "id": "78f25a71",
   "metadata": {},
   "outputs": [
    {
     "data": {
      "text/plain": [
       "Regular Activity    32401975\n",
       "Low-Activity            2884\n",
       "Name: activity_flag, dtype: int64"
      ]
     },
     "execution_count": 30,
     "metadata": {},
     "output_type": "execute_result"
    }
   ],
   "source": [
    "# checking frequency of activity_flag to see how many customers with low_activity\n",
    "ords_prods_cus['activity_flag'].value_counts(dropna = False)"
   ]
  },
  {
   "cell_type": "code",
   "execution_count": 31,
   "id": "dba719b0",
   "metadata": {},
   "outputs": [],
   "source": [
    "#Creating a subset of low activity customers\n",
    "low_activity_customers= ords_prods_cus[ords_prods_cus['activity_flag']=='Low-Activity']"
   ]
  },
  {
   "cell_type": "code",
   "execution_count": 32,
   "id": "f4ed0fa7",
   "metadata": {},
   "outputs": [
    {
     "data": {
      "text/plain": [
       "(2884, 34)"
      ]
     },
     "execution_count": 32,
     "metadata": {},
     "output_type": "execute_result"
    }
   ],
   "source": [
    "# check low activity customer datafram\n",
    "low_activity_customers.shape"
   ]
  },
  {
   "cell_type": "code",
   "execution_count": 33,
   "id": "0f18d1b3",
   "metadata": {},
   "outputs": [],
   "source": [
    "# Exporting low activity customers dataframe\n",
    "low_activity_customers.to_csv(os.path.join(path, '02 Data','Prepared Data(cleaned)','low_activity_customers.csv'))"
   ]
  },
  {
   "cell_type": "code",
   "execution_count": 34,
   "id": "71895dcd",
   "metadata": {},
   "outputs": [],
   "source": [
    "# Excluding Low-Activity from data whole dataframe\n",
    "ords_prods_cus.drop(ords_prods_cus[ords_prods_cus['activity_flag']=='Low-Activity'].index, inplace=True)"
   ]
  },
  {
   "cell_type": "code",
   "execution_count": 35,
   "id": "326aedd6",
   "metadata": {},
   "outputs": [
    {
     "data": {
      "text/plain": [
       "(32401975, 34)"
      ]
     },
     "execution_count": 35,
     "metadata": {},
     "output_type": "execute_result"
    }
   ],
   "source": [
    "#Checking dimension of dataframe to see if Low-Activity customers was excluded\n",
    "ords_prods_cus.shape"
   ]
  },
  {
   "cell_type": "markdown",
   "id": "5092ce53",
   "metadata": {},
   "source": [
    "### 6. Customer profiling"
   ]
  },
  {
   "cell_type": "markdown",
   "id": "7f4cd3c0",
   "metadata": {},
   "source": [
    "###  6a. Age group flag\n",
    "#### conditions for Age grouping:\n",
    "- age >=18 and < =24  = Young dult                                      \n",
    "- age >24 and <=64  = Adult                                              \n",
    "- age > 64 = Seniors"
   ]
  },
  {
   "cell_type": "code",
   "execution_count": 36,
   "id": "08973ac1",
   "metadata": {},
   "outputs": [],
   "source": [
    "#creating age_group_flag\n",
    "#create young adults flag: age 18-24\n",
    "ords_prods_cus.loc[(ords_prods_cus['age'] >= 18) & (ords_prods_cus['age'] <= 24), 'age_group'] = 'Young adult'\n",
    "#adults flag: age 25-64\n",
    "ords_prods_cus.loc[(ords_prods_cus['age'] > 24) & (ords_prods_cus['age'] <=64), 'age_group'] = 'Adult' \n",
    "#seniors flag: age 65 and over\n",
    "ords_prods_cus.loc[ords_prods_cus['age'] >=65, 'age_group'] = 'Senior'"
   ]
  },
  {
   "cell_type": "code",
   "execution_count": 37,
   "id": "ac3c4450",
   "metadata": {},
   "outputs": [
    {
     "data": {
      "text/plain": [
       "Adult          20254986\n",
       "Senior          8574323\n",
       "Young adult     3572666\n",
       "Name: age_group, dtype: int64"
      ]
     },
     "execution_count": 37,
     "metadata": {},
     "output_type": "execute_result"
    }
   ],
   "source": [
    "# Check age_group frequency\n",
    "ords_prods_cus['age_group'].value_counts(dropna = False)"
   ]
  },
  {
   "cell_type": "markdown",
   "id": "30aeb0a4",
   "metadata": {},
   "source": [
    "### 6b. income_flag\n",
    "#### Conditions for income_flag\n",
    " - Income <= 50,000 is label Low Income\n",
    " - Income > 50,000 and <= 150,000 is label middle income\n",
    " - Income > 150 is label High Income"
   ]
  },
  {
   "cell_type": "code",
   "execution_count": 38,
   "id": "ea1ee797",
   "metadata": {},
   "outputs": [],
   "source": [
    "#creating income_flag\n",
    "#create flag for Low_Income\n",
    "ords_prods_cus.loc[ords_prods_cus['income'] <= 50000, 'income_flag'] = 'Low Income'\n",
    "#Create flag for Middle Income\n",
    "ords_prods_cus.loc[(ords_prods_cus['income'] > 50000) & (ords_prods_cus['income'] <= 150000), 'income_flag'] = 'Middle Income' \n",
    "#Create flag for High Income\n",
    "ords_prods_cus.loc[ords_prods_cus['income'] > 150000, 'income_flag'] = 'High Income'"
   ]
  },
  {
   "cell_type": "code",
   "execution_count": 39,
   "id": "2689a8be",
   "metadata": {},
   "outputs": [
    {
     "data": {
      "text/plain": [
       "Middle Income    24758328\n",
       "High Income       4050657\n",
       "Low Income        3592990\n",
       "Name: income_flag, dtype: int64"
      ]
     },
     "execution_count": 39,
     "metadata": {},
     "output_type": "execute_result"
    }
   ],
   "source": [
    "# Check income_flag frequency\n",
    "ords_prods_cus['income_flag'].value_counts(dropna = False)"
   ]
  },
  {
   "cell_type": "markdown",
   "id": "fe3ffa75",
   "metadata": {},
   "source": [
    "### 6c. dependents_flag\n",
    "#### Condition for dependents_flag\n",
    " - Customers with no_of_dependents = 0 is label 'No dependent\n",
    " - Customers with no_of_dependents > 0 is label 'With dependents\n"
   ]
  },
  {
   "cell_type": "code",
   "execution_count": 40,
   "id": "9e80716c",
   "metadata": {},
   "outputs": [],
   "source": [
    "#creating dependents_flag\n",
    "#create flag for customers with no dependent\n",
    "ords_prods_cus.loc[ords_prods_cus['no_of_dependents'] == 0, 'dependents_flag'] = 'No dependent'\n",
    "#create flag for customers with dependents\n",
    "ords_prods_cus.loc[ords_prods_cus['no_of_dependents'] > 0, 'dependents_flag'] = 'With dependents'"
   ]
  },
  {
   "cell_type": "code",
   "execution_count": 41,
   "id": "9c1a4e98",
   "metadata": {},
   "outputs": [
    {
     "data": {
      "text/plain": [
       "With dependents    24305226\n",
       "No dependent        8096749\n",
       "Name: dependents_flag, dtype: int64"
      ]
     },
     "execution_count": 41,
     "metadata": {},
     "output_type": "execute_result"
    }
   ],
   "source": [
    "# Check dependents_flag frequency\n",
    "ords_prods_cus['dependents_flag'].value_counts(dropna = False)"
   ]
  },
  {
   "cell_type": "markdown",
   "id": "9c883e51",
   "metadata": {},
   "source": [
    "### 6d. Flag for certain goods in department column\n",
    "- profile would be made based on babies department\n"
   ]
  },
  {
   "cell_type": "code",
   "execution_count": 42,
   "id": "eba258b1",
   "metadata": {},
   "outputs": [],
   "source": [
    "# import department dataframe\n",
    "dep=pd.read_csv(os.path.join(path, '02 Data','Prepared Data(cleaned)', 'departments_wrangled.csv'),index_col=False)"
   ]
  },
  {
   "cell_type": "code",
   "execution_count": 43,
   "id": "52d1cf95",
   "metadata": {},
   "outputs": [
    {
     "data": {
      "text/plain": [
       "{1: 'frozen',\n",
       " 2: 'other',\n",
       " 3: 'bakery',\n",
       " 4: 'produce',\n",
       " 5: 'alcohol',\n",
       " 6: 'international',\n",
       " 7: 'beverages',\n",
       " 8: 'pets',\n",
       " 9: 'dry goods pasta',\n",
       " 10: 'bulk',\n",
       " 11: 'personal care',\n",
       " 12: 'meat seafood',\n",
       " 13: 'pantry',\n",
       " 14: 'breakfast',\n",
       " 15: 'canned goods',\n",
       " 16: 'dairy eggs',\n",
       " 17: 'household',\n",
       " 18: 'babies',\n",
       " 19: 'snacks',\n",
       " 20: 'deli',\n",
       " 21: 'missing'}"
      ]
     },
     "execution_count": 43,
     "metadata": {},
     "output_type": "execute_result"
    }
   ],
   "source": [
    "# Create data dictionary for department id\n",
    "zipped=zip(dep['Unnamed: 0'], dep['department'])\n",
    "data_dict=dict(zipped)\n",
    "data_dict"
   ]
  },
  {
   "cell_type": "code",
   "execution_count": 44,
   "id": "e206e449",
   "metadata": {},
   "outputs": [
    {
     "data": {
      "text/html": [
       "<div>\n",
       "<style scoped>\n",
       "    .dataframe tbody tr th:only-of-type {\n",
       "        vertical-align: middle;\n",
       "    }\n",
       "\n",
       "    .dataframe tbody tr th {\n",
       "        vertical-align: top;\n",
       "    }\n",
       "\n",
       "    .dataframe thead th {\n",
       "        text-align: right;\n",
       "    }\n",
       "</style>\n",
       "<table border=\"1\" class=\"dataframe\">\n",
       "  <thead>\n",
       "    <tr style=\"text-align: right;\">\n",
       "      <th></th>\n",
       "      <th>product_id</th>\n",
       "      <th>product_name</th>\n",
       "      <th>aisle_id</th>\n",
       "      <th>department_id</th>\n",
       "      <th>prices</th>\n",
       "      <th>order_id</th>\n",
       "      <th>user_id</th>\n",
       "      <th>order_number</th>\n",
       "      <th>orders_day_of_week</th>\n",
       "      <th>order_hour_of_day</th>\n",
       "      <th>...</th>\n",
       "      <th>no_of_dependents</th>\n",
       "      <th>marital_status</th>\n",
       "      <th>income</th>\n",
       "      <th>region</th>\n",
       "      <th>total_order</th>\n",
       "      <th>activity_flag</th>\n",
       "      <th>age_group</th>\n",
       "      <th>income_flag</th>\n",
       "      <th>dependents_flag</th>\n",
       "      <th>department</th>\n",
       "    </tr>\n",
       "  </thead>\n",
       "  <tbody>\n",
       "    <tr>\n",
       "      <th>0</th>\n",
       "      <td>1</td>\n",
       "      <td>Chocolate Sandwich Cookies</td>\n",
       "      <td>61</td>\n",
       "      <td>19</td>\n",
       "      <td>5.8</td>\n",
       "      <td>3139998</td>\n",
       "      <td>138</td>\n",
       "      <td>28</td>\n",
       "      <td>6</td>\n",
       "      <td>11</td>\n",
       "      <td>...</td>\n",
       "      <td>1</td>\n",
       "      <td>married</td>\n",
       "      <td>49620</td>\n",
       "      <td>Midwest Region</td>\n",
       "      <td>148</td>\n",
       "      <td>Regular Activity</td>\n",
       "      <td>Senior</td>\n",
       "      <td>Low Income</td>\n",
       "      <td>With dependents</td>\n",
       "      <td>snacks</td>\n",
       "    </tr>\n",
       "    <tr>\n",
       "      <th>1</th>\n",
       "      <td>1</td>\n",
       "      <td>Chocolate Sandwich Cookies</td>\n",
       "      <td>61</td>\n",
       "      <td>19</td>\n",
       "      <td>5.8</td>\n",
       "      <td>1977647</td>\n",
       "      <td>138</td>\n",
       "      <td>30</td>\n",
       "      <td>6</td>\n",
       "      <td>17</td>\n",
       "      <td>...</td>\n",
       "      <td>1</td>\n",
       "      <td>married</td>\n",
       "      <td>49620</td>\n",
       "      <td>Midwest Region</td>\n",
       "      <td>148</td>\n",
       "      <td>Regular Activity</td>\n",
       "      <td>Senior</td>\n",
       "      <td>Low Income</td>\n",
       "      <td>With dependents</td>\n",
       "      <td>snacks</td>\n",
       "    </tr>\n",
       "    <tr>\n",
       "      <th>2</th>\n",
       "      <td>907</td>\n",
       "      <td>Premium Sliced Bacon</td>\n",
       "      <td>106</td>\n",
       "      <td>12</td>\n",
       "      <td>20.0</td>\n",
       "      <td>3160996</td>\n",
       "      <td>138</td>\n",
       "      <td>1</td>\n",
       "      <td>5</td>\n",
       "      <td>13</td>\n",
       "      <td>...</td>\n",
       "      <td>1</td>\n",
       "      <td>married</td>\n",
       "      <td>49620</td>\n",
       "      <td>Midwest Region</td>\n",
       "      <td>148</td>\n",
       "      <td>Regular Activity</td>\n",
       "      <td>Senior</td>\n",
       "      <td>Low Income</td>\n",
       "      <td>With dependents</td>\n",
       "      <td>meat seafood</td>\n",
       "    </tr>\n",
       "    <tr>\n",
       "      <th>3</th>\n",
       "      <td>907</td>\n",
       "      <td>Premium Sliced Bacon</td>\n",
       "      <td>106</td>\n",
       "      <td>12</td>\n",
       "      <td>20.0</td>\n",
       "      <td>2254091</td>\n",
       "      <td>138</td>\n",
       "      <td>10</td>\n",
       "      <td>5</td>\n",
       "      <td>14</td>\n",
       "      <td>...</td>\n",
       "      <td>1</td>\n",
       "      <td>married</td>\n",
       "      <td>49620</td>\n",
       "      <td>Midwest Region</td>\n",
       "      <td>148</td>\n",
       "      <td>Regular Activity</td>\n",
       "      <td>Senior</td>\n",
       "      <td>Low Income</td>\n",
       "      <td>With dependents</td>\n",
       "      <td>meat seafood</td>\n",
       "    </tr>\n",
       "    <tr>\n",
       "      <th>4</th>\n",
       "      <td>1000</td>\n",
       "      <td>Apricots</td>\n",
       "      <td>18</td>\n",
       "      <td>10</td>\n",
       "      <td>12.9</td>\n",
       "      <td>505689</td>\n",
       "      <td>138</td>\n",
       "      <td>9</td>\n",
       "      <td>6</td>\n",
       "      <td>12</td>\n",
       "      <td>...</td>\n",
       "      <td>1</td>\n",
       "      <td>married</td>\n",
       "      <td>49620</td>\n",
       "      <td>Midwest Region</td>\n",
       "      <td>148</td>\n",
       "      <td>Regular Activity</td>\n",
       "      <td>Senior</td>\n",
       "      <td>Low Income</td>\n",
       "      <td>With dependents</td>\n",
       "      <td>bulk</td>\n",
       "    </tr>\n",
       "  </tbody>\n",
       "</table>\n",
       "<p>5 rows × 38 columns</p>\n",
       "</div>"
      ],
      "text/plain": [
       "   product_id                product_name  aisle_id  department_id  prices  \\\n",
       "0           1  Chocolate Sandwich Cookies        61             19     5.8   \n",
       "1           1  Chocolate Sandwich Cookies        61             19     5.8   \n",
       "2         907        Premium Sliced Bacon       106             12    20.0   \n",
       "3         907        Premium Sliced Bacon       106             12    20.0   \n",
       "4        1000                    Apricots        18             10    12.9   \n",
       "\n",
       "   order_id user_id  order_number  orders_day_of_week  order_hour_of_day  ...  \\\n",
       "0   3139998     138            28                   6                 11  ...   \n",
       "1   1977647     138            30                   6                 17  ...   \n",
       "2   3160996     138             1                   5                 13  ...   \n",
       "3   2254091     138            10                   5                 14  ...   \n",
       "4    505689     138             9                   6                 12  ...   \n",
       "\n",
       "   no_of_dependents  marital_status  income          region total_order  \\\n",
       "0                 1         married   49620  Midwest Region         148   \n",
       "1                 1         married   49620  Midwest Region         148   \n",
       "2                 1         married   49620  Midwest Region         148   \n",
       "3                 1         married   49620  Midwest Region         148   \n",
       "4                 1         married   49620  Midwest Region         148   \n",
       "\n",
       "      activity_flag age_group income_flag  dependents_flag    department  \n",
       "0  Regular Activity    Senior  Low Income  With dependents        snacks  \n",
       "1  Regular Activity    Senior  Low Income  With dependents        snacks  \n",
       "2  Regular Activity    Senior  Low Income  With dependents  meat seafood  \n",
       "3  Regular Activity    Senior  Low Income  With dependents  meat seafood  \n",
       "4  Regular Activity    Senior  Low Income  With dependents          bulk  \n",
       "\n",
       "[5 rows x 38 columns]"
      ]
     },
     "execution_count": 44,
     "metadata": {},
     "output_type": "execute_result"
    }
   ],
   "source": [
    "# map department names to department id in dataframe\n",
    "ords_prods_cus['department'] = ords_prods_cus['department_id'].map(data_dict)\n",
    "ords_prods_cus.head()"
   ]
  },
  {
   "cell_type": "markdown",
   "id": "ed8f35be",
   "metadata": {},
   "source": [
    "   ######  created a subset for customers who bought babies producs as 'parents'."
   ]
  },
  {
   "cell_type": "code",
   "execution_count": 45,
   "id": "63a4554f",
   "metadata": {},
   "outputs": [],
   "source": [
    "# Create subset for customers who have purchased babies products\n",
    "parents=ords_prods_cus.loc[ords_prods_cus['department']=='babies']"
   ]
  },
  {
   "cell_type": "code",
   "execution_count": 46,
   "id": "f7e5162a",
   "metadata": {
    "scrolled": true
   },
   "outputs": [
    {
     "data": {
      "text/html": [
       "<div>\n",
       "<style scoped>\n",
       "    .dataframe tbody tr th:only-of-type {\n",
       "        vertical-align: middle;\n",
       "    }\n",
       "\n",
       "    .dataframe tbody tr th {\n",
       "        vertical-align: top;\n",
       "    }\n",
       "\n",
       "    .dataframe thead th {\n",
       "        text-align: right;\n",
       "    }\n",
       "</style>\n",
       "<table border=\"1\" class=\"dataframe\">\n",
       "  <thead>\n",
       "    <tr style=\"text-align: right;\">\n",
       "      <th></th>\n",
       "      <th>product_id</th>\n",
       "      <th>product_name</th>\n",
       "      <th>aisle_id</th>\n",
       "      <th>department_id</th>\n",
       "      <th>prices</th>\n",
       "      <th>order_id</th>\n",
       "      <th>user_id</th>\n",
       "      <th>order_number</th>\n",
       "      <th>orders_day_of_week</th>\n",
       "      <th>order_hour_of_day</th>\n",
       "      <th>...</th>\n",
       "      <th>no_of_dependents</th>\n",
       "      <th>marital_status</th>\n",
       "      <th>income</th>\n",
       "      <th>region</th>\n",
       "      <th>total_order</th>\n",
       "      <th>activity_flag</th>\n",
       "      <th>age_group</th>\n",
       "      <th>income_flag</th>\n",
       "      <th>dependents_flag</th>\n",
       "      <th>department</th>\n",
       "    </tr>\n",
       "  </thead>\n",
       "  <tbody>\n",
       "    <tr>\n",
       "      <th>8279</th>\n",
       "      <td>9356</td>\n",
       "      <td>Swaddlers Size 2 Diapers</td>\n",
       "      <td>56</td>\n",
       "      <td>18</td>\n",
       "      <td>12.1</td>\n",
       "      <td>984114</td>\n",
       "      <td>15954</td>\n",
       "      <td>5</td>\n",
       "      <td>0</td>\n",
       "      <td>20</td>\n",
       "      <td>...</td>\n",
       "      <td>2</td>\n",
       "      <td>married</td>\n",
       "      <td>149863</td>\n",
       "      <td>Midwest Region</td>\n",
       "      <td>68</td>\n",
       "      <td>Regular Activity</td>\n",
       "      <td>Adult</td>\n",
       "      <td>Middle Income</td>\n",
       "      <td>With dependents</td>\n",
       "      <td>babies</td>\n",
       "    </tr>\n",
       "    <tr>\n",
       "      <th>21728</th>\n",
       "      <td>6042</td>\n",
       "      <td>No More Tangles Leave-in Conditioner</td>\n",
       "      <td>102</td>\n",
       "      <td>18</td>\n",
       "      <td>4.2</td>\n",
       "      <td>2360653</td>\n",
       "      <td>39145</td>\n",
       "      <td>5</td>\n",
       "      <td>0</td>\n",
       "      <td>17</td>\n",
       "      <td>...</td>\n",
       "      <td>1</td>\n",
       "      <td>married</td>\n",
       "      <td>47143</td>\n",
       "      <td>South Region</td>\n",
       "      <td>215</td>\n",
       "      <td>Regular Activity</td>\n",
       "      <td>Adult</td>\n",
       "      <td>Low Income</td>\n",
       "      <td>With dependents</td>\n",
       "      <td>babies</td>\n",
       "    </tr>\n",
       "    <tr>\n",
       "      <th>26834</th>\n",
       "      <td>18334</td>\n",
       "      <td>Baby Oil</td>\n",
       "      <td>102</td>\n",
       "      <td>18</td>\n",
       "      <td>9.4</td>\n",
       "      <td>3011132</td>\n",
       "      <td>50640</td>\n",
       "      <td>5</td>\n",
       "      <td>6</td>\n",
       "      <td>6</td>\n",
       "      <td>...</td>\n",
       "      <td>0</td>\n",
       "      <td>single</td>\n",
       "      <td>84195</td>\n",
       "      <td>West Region</td>\n",
       "      <td>311</td>\n",
       "      <td>Regular Activity</td>\n",
       "      <td>Young adult</td>\n",
       "      <td>Middle Income</td>\n",
       "      <td>No dependent</td>\n",
       "      <td>babies</td>\n",
       "    </tr>\n",
       "    <tr>\n",
       "      <th>26835</th>\n",
       "      <td>18334</td>\n",
       "      <td>Baby Oil</td>\n",
       "      <td>102</td>\n",
       "      <td>18</td>\n",
       "      <td>9.4</td>\n",
       "      <td>1234307</td>\n",
       "      <td>50640</td>\n",
       "      <td>14</td>\n",
       "      <td>3</td>\n",
       "      <td>13</td>\n",
       "      <td>...</td>\n",
       "      <td>0</td>\n",
       "      <td>single</td>\n",
       "      <td>84195</td>\n",
       "      <td>West Region</td>\n",
       "      <td>311</td>\n",
       "      <td>Regular Activity</td>\n",
       "      <td>Young adult</td>\n",
       "      <td>Middle Income</td>\n",
       "      <td>No dependent</td>\n",
       "      <td>babies</td>\n",
       "    </tr>\n",
       "    <tr>\n",
       "      <th>26836</th>\n",
       "      <td>18334</td>\n",
       "      <td>Baby Oil</td>\n",
       "      <td>102</td>\n",
       "      <td>18</td>\n",
       "      <td>9.4</td>\n",
       "      <td>379257</td>\n",
       "      <td>50640</td>\n",
       "      <td>24</td>\n",
       "      <td>0</td>\n",
       "      <td>13</td>\n",
       "      <td>...</td>\n",
       "      <td>0</td>\n",
       "      <td>single</td>\n",
       "      <td>84195</td>\n",
       "      <td>West Region</td>\n",
       "      <td>311</td>\n",
       "      <td>Regular Activity</td>\n",
       "      <td>Young adult</td>\n",
       "      <td>Middle Income</td>\n",
       "      <td>No dependent</td>\n",
       "      <td>babies</td>\n",
       "    </tr>\n",
       "  </tbody>\n",
       "</table>\n",
       "<p>5 rows × 38 columns</p>\n",
       "</div>"
      ],
      "text/plain": [
       "       product_id                          product_name  aisle_id  \\\n",
       "8279         9356              Swaddlers Size 2 Diapers        56   \n",
       "21728        6042  No More Tangles Leave-in Conditioner       102   \n",
       "26834       18334                              Baby Oil       102   \n",
       "26835       18334                              Baby Oil       102   \n",
       "26836       18334                              Baby Oil       102   \n",
       "\n",
       "       department_id  prices  order_id user_id  order_number  \\\n",
       "8279              18    12.1    984114   15954             5   \n",
       "21728             18     4.2   2360653   39145             5   \n",
       "26834             18     9.4   3011132   50640             5   \n",
       "26835             18     9.4   1234307   50640            14   \n",
       "26836             18     9.4    379257   50640            24   \n",
       "\n",
       "       orders_day_of_week  order_hour_of_day  ...  no_of_dependents  \\\n",
       "8279                    0                 20  ...                 2   \n",
       "21728                   0                 17  ...                 1   \n",
       "26834                   6                  6  ...                 0   \n",
       "26835                   3                 13  ...                 0   \n",
       "26836                   0                 13  ...                 0   \n",
       "\n",
       "       marital_status  income          region total_order     activity_flag  \\\n",
       "8279          married  149863  Midwest Region          68  Regular Activity   \n",
       "21728         married   47143    South Region         215  Regular Activity   \n",
       "26834          single   84195     West Region         311  Regular Activity   \n",
       "26835          single   84195     West Region         311  Regular Activity   \n",
       "26836          single   84195     West Region         311  Regular Activity   \n",
       "\n",
       "         age_group    income_flag  dependents_flag department  \n",
       "8279         Adult  Middle Income  With dependents     babies  \n",
       "21728        Adult     Low Income  With dependents     babies  \n",
       "26834  Young adult  Middle Income     No dependent     babies  \n",
       "26835  Young adult  Middle Income     No dependent     babies  \n",
       "26836  Young adult  Middle Income     No dependent     babies  \n",
       "\n",
       "[5 rows x 38 columns]"
      ]
     },
     "execution_count": 46,
     "metadata": {},
     "output_type": "execute_result"
    }
   ],
   "source": [
    "# checking colums and few rows\n",
    "parents.head()"
   ]
  },
  {
   "cell_type": "markdown",
   "id": "f22a582b",
   "metadata": {},
   "source": [
    " ######  created a subset for customers who bought international products as 'immigrant'"
   ]
  },
  {
   "cell_type": "code",
   "execution_count": 47,
   "id": "4bde2659",
   "metadata": {},
   "outputs": [],
   "source": [
    "# Create subset for customers who have purchased international products\n",
    "Immigrants=ords_prods_cus.loc[ords_prods_cus['department']=='international']"
   ]
  },
  {
   "cell_type": "code",
   "execution_count": 48,
   "id": "802c9251",
   "metadata": {},
   "outputs": [
    {
     "data": {
      "text/html": [
       "<div>\n",
       "<style scoped>\n",
       "    .dataframe tbody tr th:only-of-type {\n",
       "        vertical-align: middle;\n",
       "    }\n",
       "\n",
       "    .dataframe tbody tr th {\n",
       "        vertical-align: top;\n",
       "    }\n",
       "\n",
       "    .dataframe thead th {\n",
       "        text-align: right;\n",
       "    }\n",
       "</style>\n",
       "<table border=\"1\" class=\"dataframe\">\n",
       "  <thead>\n",
       "    <tr style=\"text-align: right;\">\n",
       "      <th></th>\n",
       "      <th>product_id</th>\n",
       "      <th>product_name</th>\n",
       "      <th>aisle_id</th>\n",
       "      <th>department_id</th>\n",
       "      <th>prices</th>\n",
       "      <th>order_id</th>\n",
       "      <th>user_id</th>\n",
       "      <th>order_number</th>\n",
       "      <th>orders_day_of_week</th>\n",
       "      <th>order_hour_of_day</th>\n",
       "      <th>...</th>\n",
       "      <th>no_of_dependents</th>\n",
       "      <th>marital_status</th>\n",
       "      <th>income</th>\n",
       "      <th>region</th>\n",
       "      <th>total_order</th>\n",
       "      <th>activity_flag</th>\n",
       "      <th>age_group</th>\n",
       "      <th>income_flag</th>\n",
       "      <th>dependents_flag</th>\n",
       "      <th>department</th>\n",
       "    </tr>\n",
       "  </thead>\n",
       "  <tbody>\n",
       "    <tr>\n",
       "      <th>213</th>\n",
       "      <td>13496</td>\n",
       "      <td>Tofu Shirataki</td>\n",
       "      <td>66</td>\n",
       "      <td>6</td>\n",
       "      <td>2.3</td>\n",
       "      <td>1331431</td>\n",
       "      <td>709</td>\n",
       "      <td>3</td>\n",
       "      <td>6</td>\n",
       "      <td>15</td>\n",
       "      <td>...</td>\n",
       "      <td>2</td>\n",
       "      <td>married</td>\n",
       "      <td>158302</td>\n",
       "      <td>Northeast Region</td>\n",
       "      <td>192</td>\n",
       "      <td>Regular Activity</td>\n",
       "      <td>Senior</td>\n",
       "      <td>High Income</td>\n",
       "      <td>With dependents</td>\n",
       "      <td>international</td>\n",
       "    </tr>\n",
       "    <tr>\n",
       "      <th>1468</th>\n",
       "      <td>5913</td>\n",
       "      <td>Lite Coconut Milk</td>\n",
       "      <td>66</td>\n",
       "      <td>6</td>\n",
       "      <td>1.4</td>\n",
       "      <td>2978890</td>\n",
       "      <td>2850</td>\n",
       "      <td>10</td>\n",
       "      <td>1</td>\n",
       "      <td>11</td>\n",
       "      <td>...</td>\n",
       "      <td>1</td>\n",
       "      <td>married</td>\n",
       "      <td>46105</td>\n",
       "      <td>West Region</td>\n",
       "      <td>301</td>\n",
       "      <td>Regular Activity</td>\n",
       "      <td>Young adult</td>\n",
       "      <td>Low Income</td>\n",
       "      <td>With dependents</td>\n",
       "      <td>international</td>\n",
       "    </tr>\n",
       "    <tr>\n",
       "      <th>1597</th>\n",
       "      <td>27528</td>\n",
       "      <td>Nacho Cheese Taco Shells</td>\n",
       "      <td>30</td>\n",
       "      <td>6</td>\n",
       "      <td>6.1</td>\n",
       "      <td>1149125</td>\n",
       "      <td>2850</td>\n",
       "      <td>14</td>\n",
       "      <td>1</td>\n",
       "      <td>13</td>\n",
       "      <td>...</td>\n",
       "      <td>1</td>\n",
       "      <td>married</td>\n",
       "      <td>46105</td>\n",
       "      <td>West Region</td>\n",
       "      <td>301</td>\n",
       "      <td>Regular Activity</td>\n",
       "      <td>Young adult</td>\n",
       "      <td>Low Income</td>\n",
       "      <td>With dependents</td>\n",
       "      <td>international</td>\n",
       "    </tr>\n",
       "    <tr>\n",
       "      <th>1730</th>\n",
       "      <td>46217</td>\n",
       "      <td>Sriracha Peas</td>\n",
       "      <td>66</td>\n",
       "      <td>6</td>\n",
       "      <td>2.0</td>\n",
       "      <td>1482338</td>\n",
       "      <td>2850</td>\n",
       "      <td>7</td>\n",
       "      <td>1</td>\n",
       "      <td>16</td>\n",
       "      <td>...</td>\n",
       "      <td>1</td>\n",
       "      <td>married</td>\n",
       "      <td>46105</td>\n",
       "      <td>West Region</td>\n",
       "      <td>301</td>\n",
       "      <td>Regular Activity</td>\n",
       "      <td>Young adult</td>\n",
       "      <td>Low Income</td>\n",
       "      <td>With dependents</td>\n",
       "      <td>international</td>\n",
       "    </tr>\n",
       "    <tr>\n",
       "      <th>1731</th>\n",
       "      <td>46217</td>\n",
       "      <td>Sriracha Peas</td>\n",
       "      <td>66</td>\n",
       "      <td>6</td>\n",
       "      <td>2.0</td>\n",
       "      <td>2525984</td>\n",
       "      <td>2850</td>\n",
       "      <td>11</td>\n",
       "      <td>6</td>\n",
       "      <td>7</td>\n",
       "      <td>...</td>\n",
       "      <td>1</td>\n",
       "      <td>married</td>\n",
       "      <td>46105</td>\n",
       "      <td>West Region</td>\n",
       "      <td>301</td>\n",
       "      <td>Regular Activity</td>\n",
       "      <td>Young adult</td>\n",
       "      <td>Low Income</td>\n",
       "      <td>With dependents</td>\n",
       "      <td>international</td>\n",
       "    </tr>\n",
       "  </tbody>\n",
       "</table>\n",
       "<p>5 rows × 38 columns</p>\n",
       "</div>"
      ],
      "text/plain": [
       "      product_id              product_name  aisle_id  department_id  prices  \\\n",
       "213        13496            Tofu Shirataki        66              6     2.3   \n",
       "1468        5913         Lite Coconut Milk        66              6     1.4   \n",
       "1597       27528  Nacho Cheese Taco Shells        30              6     6.1   \n",
       "1730       46217             Sriracha Peas        66              6     2.0   \n",
       "1731       46217             Sriracha Peas        66              6     2.0   \n",
       "\n",
       "      order_id user_id  order_number  orders_day_of_week  order_hour_of_day  \\\n",
       "213    1331431     709             3                   6                 15   \n",
       "1468   2978890    2850            10                   1                 11   \n",
       "1597   1149125    2850            14                   1                 13   \n",
       "1730   1482338    2850             7                   1                 16   \n",
       "1731   2525984    2850            11                   6                  7   \n",
       "\n",
       "      ...  no_of_dependents  marital_status  income            region  \\\n",
       "213   ...                 2         married  158302  Northeast Region   \n",
       "1468  ...                 1         married   46105       West Region   \n",
       "1597  ...                 1         married   46105       West Region   \n",
       "1730  ...                 1         married   46105       West Region   \n",
       "1731  ...                 1         married   46105       West Region   \n",
       "\n",
       "     total_order     activity_flag    age_group  income_flag  dependents_flag  \\\n",
       "213          192  Regular Activity       Senior  High Income  With dependents   \n",
       "1468         301  Regular Activity  Young adult   Low Income  With dependents   \n",
       "1597         301  Regular Activity  Young adult   Low Income  With dependents   \n",
       "1730         301  Regular Activity  Young adult   Low Income  With dependents   \n",
       "1731         301  Regular Activity  Young adult   Low Income  With dependents   \n",
       "\n",
       "         department  \n",
       "213   international  \n",
       "1468  international  \n",
       "1597  international  \n",
       "1730  international  \n",
       "1731  international  \n",
       "\n",
       "[5 rows x 38 columns]"
      ]
     },
     "execution_count": 48,
     "metadata": {},
     "output_type": "execute_result"
    }
   ],
   "source": [
    "# check columns and first few row\n",
    "Immigrants.head()"
   ]
  },
  {
   "cell_type": "markdown",
   "id": "70caed68",
   "metadata": {},
   "source": [
    "### 7. Visualization to show distribution of profiles"
   ]
  },
  {
   "cell_type": "code",
   "execution_count": 49,
   "id": "bc1dbdbe",
   "metadata": {
    "scrolled": true
   },
   "outputs": [
    {
     "data": {
      "image/png": "[encoded data removed]",
      "text/plain": [
       "<Figure size 432x288 with 1 Axes>"
      ]
     },
     "metadata": {
      "needs_background": "light"
     },
     "output_type": "display_data"
    }
   ],
   "source": [
    "#bar chart for age groups and income groups\n",
    "age_income_bar=ords_prods_cus.groupby('age_group')['income_flag'].value_counts().unstack().plot.bar(stacked=True,\n",
    "                                                    ylabel='counts',color=['green','yellow','blue'], fontsize=20)"
   ]
  },
  {
   "cell_type": "markdown",
   "id": "88275aac",
   "metadata": {},
   "source": [
    "###### adult which are customers of age 25 to 64 have the highest of all income categories"
   ]
  },
  {
   "cell_type": "code",
   "execution_count": 50,
   "id": "f1f529a2",
   "metadata": {},
   "outputs": [
    {
     "data": {
      "image/png": "[encoded data removed]",
      "text/plain": [
       "<Figure size 432x288 with 1 Axes>"
      ]
     },
     "metadata": {
      "needs_background": "light"
     },
     "output_type": "display_data"
    }
   ],
   "source": [
    "# Marital_status distribution of customers\n",
    "marital_bar=ords_prods_cus['marital_status'].value_counts().sort_values().plot.barh(color='purple', fontsize=20)"
   ]
  },
  {
   "cell_type": "code",
   "execution_count": 51,
   "id": "62b8a416",
   "metadata": {
    "scrolled": true
   },
   "outputs": [
    {
     "data": {
      "image/png": "[encoded data removed]",
      "text/plain": [
       "<Figure size 432x288 with 1 Axes>"
      ]
     },
     "metadata": {
      "needs_background": "light"
     },
     "output_type": "display_data"
    }
   ],
   "source": [
    "#income status distribution of customers\n",
    "income_bar=ords_prods_cus['income_flag'].value_counts().sort_values().plot.barh(color='green', fontsize=20)"
   ]
  },
  {
   "cell_type": "code",
   "execution_count": 52,
   "id": "e33c65f6",
   "metadata": {
    "scrolled": true
   },
   "outputs": [
    {
     "data": {
      "image/png": "[encoded data removed]",
      "text/plain": [
       "<Figure size 432x288 with 1 Axes>"
      ]
     },
     "metadata": {
      "needs_background": "light"
     },
     "output_type": "display_data"
    }
   ],
   "source": [
    "#bar chart for age groups and marital_status groups of customers\n",
    "age_marital_bar=ords_prods_cus.groupby('age_group')['marital_status'].value_counts().unstack().plot.bar(stacked=True,\n",
    "                                                    ylabel='counts',color=['blue','orange','green','purple'], fontsize=20)"
   ]
  },
  {
   "cell_type": "code",
   "execution_count": 53,
   "id": "ad46d4dd",
   "metadata": {},
   "outputs": [
    {
     "data": {
      "image/png": "[encoded data removed]",
      "text/plain": [
       "<Figure size 432x288 with 1 Axes>"
      ]
     },
     "metadata": {
      "needs_background": "light"
     },
     "output_type": "display_data"
    }
   ],
   "source": [
    "#age_group distribution of customers\n",
    "age_bar=ords_prods_cus['age_group'].value_counts().plot.bar(color='green', fontsize=20)"
   ]
  },
  {
   "cell_type": "code",
   "execution_count": 54,
   "id": "537741c3",
   "metadata": {},
   "outputs": [
    {
     "data": {
      "image/png": "[encoded data removed]",
      "text/plain": [
       "<Figure size 432x288 with 1 Axes>"
      ]
     },
     "metadata": {
      "needs_background": "light"
     },
     "output_type": "display_data"
    }
   ],
   "source": [
    "# dependents distribution of customers\n",
    "Dependents_bar=ords_prods_cus['dependents_flag'].value_counts().sort_values().plot.bar(color='blue', fontsize=20)"
   ]
  },
  {
   "cell_type": "markdown",
   "id": "92198277",
   "metadata": {},
   "source": [
    "#### 7b. Exporting visualization for customers profiles distribution"
   ]
  },
  {
   "cell_type": "code",
   "execution_count": 55,
   "id": "cd2fcc66",
   "metadata": {},
   "outputs": [],
   "source": [
    "# Export age_income_bar\n",
    "age_income_bar.figure.savefig(os.path.join(path, '04 Analysis','visualizations','age_income_bar.png'))\n",
    "\n",
    "# Export marital_bar\n",
    "marital_bar.figure.savefig(os.path.join(path, '04 Analysis','visualizations','marital_bar.png'))\n",
    "\n",
    "# Export df_region_bar\n",
    "income_bar.figure.savefig(os.path.join(path, '04 Analysis','visualizations','income_bar.png'))\n",
    "\n",
    "# Export age_marital_bar\n",
    "age_marital_bar.figure.savefig(os.path.join(path, '04 Analysis','visualizations','age_marital_bar.png'))\n",
    "\n",
    "# Export age_bar\n",
    "age_bar.figure.savefig(os.path.join(path, '04 Analysis','visualizations','age_bar.png'))\n",
    "\n",
    "# Export df_region_bar\n",
    "Dependents_bar.figure.savefig(os.path.join(path, '04 Analysis','visualizations','dependents_bar.png'))"
   ]
  },
  {
   "cell_type": "markdown",
   "id": "ef6bff24",
   "metadata": {},
   "source": [
    "### 8. Aggregate the max, mean, and min variables on a customer-profile level for usage frequency and expenditure."
   ]
  },
  {
   "cell_type": "markdown",
   "id": "aa7138de",
   "metadata": {},
   "source": [
    "#### 8a. age_group aggregation for usage frequency & expenditure"
   ]
  },
  {
   "cell_type": "code",
   "execution_count": 56,
   "id": "1a79aa05",
   "metadata": {},
   "outputs": [
    {
     "data": {
      "text/html": [
       "<div>\n",
       "<style scoped>\n",
       "    .dataframe tbody tr th:only-of-type {\n",
       "        vertical-align: middle;\n",
       "    }\n",
       "\n",
       "    .dataframe tbody tr th {\n",
       "        vertical-align: top;\n",
       "    }\n",
       "\n",
       "    .dataframe thead tr th {\n",
       "        text-align: left;\n",
       "    }\n",
       "\n",
       "    .dataframe thead tr:last-of-type th {\n",
       "        text-align: right;\n",
       "    }\n",
       "</style>\n",
       "<table border=\"1\" class=\"dataframe\">\n",
       "  <thead>\n",
       "    <tr>\n",
       "      <th></th>\n",
       "      <th colspan=\"3\" halign=\"left\">prices</th>\n",
       "    </tr>\n",
       "    <tr>\n",
       "      <th></th>\n",
       "      <th>mean</th>\n",
       "      <th>min</th>\n",
       "      <th>max</th>\n",
       "    </tr>\n",
       "    <tr>\n",
       "      <th>age_group</th>\n",
       "      <th></th>\n",
       "      <th></th>\n",
       "      <th></th>\n",
       "    </tr>\n",
       "  </thead>\n",
       "  <tbody>\n",
       "    <tr>\n",
       "      <th>Adult</th>\n",
       "      <td>7.788711</td>\n",
       "      <td>1.0</td>\n",
       "      <td>25.0</td>\n",
       "    </tr>\n",
       "    <tr>\n",
       "      <th>Senior</th>\n",
       "      <td>7.796590</td>\n",
       "      <td>1.0</td>\n",
       "      <td>25.0</td>\n",
       "    </tr>\n",
       "    <tr>\n",
       "      <th>Young adult</th>\n",
       "      <td>7.790922</td>\n",
       "      <td>1.0</td>\n",
       "      <td>25.0</td>\n",
       "    </tr>\n",
       "  </tbody>\n",
       "</table>\n",
       "</div>"
      ],
      "text/plain": [
       "               prices           \n",
       "                 mean  min   max\n",
       "age_group                       \n",
       "Adult        7.788711  1.0  25.0\n",
       "Senior       7.796590  1.0  25.0\n",
       "Young adult  7.790922  1.0  25.0"
      ]
     },
     "execution_count": 56,
     "metadata": {},
     "output_type": "execute_result"
    }
   ],
   "source": [
    "#aggregating for age group expenditure\n",
    "ords_prods_cus.groupby('age_group').agg({'prices': ['mean', 'min', 'max']})"
   ]
  },
  {
   "cell_type": "markdown",
   "id": "230dae98",
   "metadata": {},
   "source": [
    "###### all age group has same average,minimum & maximum prices spent"
   ]
  },
  {
   "cell_type": "code",
   "execution_count": 57,
   "id": "45af888b",
   "metadata": {},
   "outputs": [
    {
     "data": {
      "text/html": [
       "<div>\n",
       "<style scoped>\n",
       "    .dataframe tbody tr th:only-of-type {\n",
       "        vertical-align: middle;\n",
       "    }\n",
       "\n",
       "    .dataframe tbody tr th {\n",
       "        vertical-align: top;\n",
       "    }\n",
       "\n",
       "    .dataframe thead tr th {\n",
       "        text-align: left;\n",
       "    }\n",
       "\n",
       "    .dataframe thead tr:last-of-type th {\n",
       "        text-align: right;\n",
       "    }\n",
       "</style>\n",
       "<table border=\"1\" class=\"dataframe\">\n",
       "  <thead>\n",
       "    <tr>\n",
       "      <th></th>\n",
       "      <th colspan=\"3\" halign=\"left\">median_days_since_prior_order</th>\n",
       "    </tr>\n",
       "    <tr>\n",
       "      <th></th>\n",
       "      <th>mean</th>\n",
       "      <th>min</th>\n",
       "      <th>max</th>\n",
       "    </tr>\n",
       "    <tr>\n",
       "      <th>age_group</th>\n",
       "      <th></th>\n",
       "      <th></th>\n",
       "      <th></th>\n",
       "    </tr>\n",
       "  </thead>\n",
       "  <tbody>\n",
       "    <tr>\n",
       "      <th>Adult</th>\n",
       "      <td>10.418793</td>\n",
       "      <td>0.0</td>\n",
       "      <td>30.0</td>\n",
       "    </tr>\n",
       "    <tr>\n",
       "      <th>Senior</th>\n",
       "      <td>10.361466</td>\n",
       "      <td>0.0</td>\n",
       "      <td>30.0</td>\n",
       "    </tr>\n",
       "    <tr>\n",
       "      <th>Young adult</th>\n",
       "      <td>10.356916</td>\n",
       "      <td>0.0</td>\n",
       "      <td>30.0</td>\n",
       "    </tr>\n",
       "  </tbody>\n",
       "</table>\n",
       "</div>"
      ],
      "text/plain": [
       "            median_days_since_prior_order           \n",
       "                                     mean  min   max\n",
       "age_group                                           \n",
       "Adult                           10.418793  0.0  30.0\n",
       "Senior                          10.361466  0.0  30.0\n",
       "Young adult                     10.356916  0.0  30.0"
      ]
     },
     "execution_count": 57,
     "metadata": {},
     "output_type": "execute_result"
    }
   ],
   "source": [
    "#aggregating for age group order frequency\n",
    "ords_prods_cus.groupby('age_group').agg({'median_days_since_prior_order': ['mean', 'min', 'max']})"
   ]
  },
  {
   "cell_type": "markdown",
   "id": "23ba80dc",
   "metadata": {},
   "source": [
    "#### 8b. income_flag aggregation for usage frequency & expenditure"
   ]
  },
  {
   "cell_type": "code",
   "execution_count": 58,
   "id": "6edee01f",
   "metadata": {},
   "outputs": [
    {
     "data": {
      "text/html": [
       "<div>\n",
       "<style scoped>\n",
       "    .dataframe tbody tr th:only-of-type {\n",
       "        vertical-align: middle;\n",
       "    }\n",
       "\n",
       "    .dataframe tbody tr th {\n",
       "        vertical-align: top;\n",
       "    }\n",
       "\n",
       "    .dataframe thead tr th {\n",
       "        text-align: left;\n",
       "    }\n",
       "\n",
       "    .dataframe thead tr:last-of-type th {\n",
       "        text-align: right;\n",
       "    }\n",
       "</style>\n",
       "<table border=\"1\" class=\"dataframe\">\n",
       "  <thead>\n",
       "    <tr>\n",
       "      <th></th>\n",
       "      <th colspan=\"3\" halign=\"left\">prices</th>\n",
       "    </tr>\n",
       "    <tr>\n",
       "      <th></th>\n",
       "      <th>mean</th>\n",
       "      <th>min</th>\n",
       "      <th>max</th>\n",
       "    </tr>\n",
       "    <tr>\n",
       "      <th>income_flag</th>\n",
       "      <th></th>\n",
       "      <th></th>\n",
       "      <th></th>\n",
       "    </tr>\n",
       "  </thead>\n",
       "  <tbody>\n",
       "    <tr>\n",
       "      <th>High Income</th>\n",
       "      <td>7.946939</td>\n",
       "      <td>1.0</td>\n",
       "      <td>25.0</td>\n",
       "    </tr>\n",
       "    <tr>\n",
       "      <th>Low Income</th>\n",
       "      <td>6.697611</td>\n",
       "      <td>1.0</td>\n",
       "      <td>25.0</td>\n",
       "    </tr>\n",
       "    <tr>\n",
       "      <th>Middle Income</th>\n",
       "      <td>7.924245</td>\n",
       "      <td>1.0</td>\n",
       "      <td>25.0</td>\n",
       "    </tr>\n",
       "  </tbody>\n",
       "</table>\n",
       "</div>"
      ],
      "text/plain": [
       "                 prices           \n",
       "                   mean  min   max\n",
       "income_flag                       \n",
       "High Income    7.946939  1.0  25.0\n",
       "Low Income     6.697611  1.0  25.0\n",
       "Middle Income  7.924245  1.0  25.0"
      ]
     },
     "execution_count": 58,
     "metadata": {},
     "output_type": "execute_result"
    }
   ],
   "source": [
    "#aggregating for income_flag expenditure\n",
    "ords_prods_cus.groupby('income_flag').agg({'prices': ['mean', 'min', 'max']})"
   ]
  },
  {
   "cell_type": "code",
   "execution_count": 59,
   "id": "c99d8d18",
   "metadata": {
    "scrolled": true
   },
   "outputs": [
    {
     "data": {
      "text/html": [
       "<div>\n",
       "<style scoped>\n",
       "    .dataframe tbody tr th:only-of-type {\n",
       "        vertical-align: middle;\n",
       "    }\n",
       "\n",
       "    .dataframe tbody tr th {\n",
       "        vertical-align: top;\n",
       "    }\n",
       "\n",
       "    .dataframe thead tr th {\n",
       "        text-align: left;\n",
       "    }\n",
       "\n",
       "    .dataframe thead tr:last-of-type th {\n",
       "        text-align: right;\n",
       "    }\n",
       "</style>\n",
       "<table border=\"1\" class=\"dataframe\">\n",
       "  <thead>\n",
       "    <tr>\n",
       "      <th></th>\n",
       "      <th colspan=\"3\" halign=\"left\">median_days_since_prior_order</th>\n",
       "    </tr>\n",
       "    <tr>\n",
       "      <th></th>\n",
       "      <th>mean</th>\n",
       "      <th>min</th>\n",
       "      <th>max</th>\n",
       "    </tr>\n",
       "    <tr>\n",
       "      <th>income_flag</th>\n",
       "      <th></th>\n",
       "      <th></th>\n",
       "      <th></th>\n",
       "    </tr>\n",
       "  </thead>\n",
       "  <tbody>\n",
       "    <tr>\n",
       "      <th>High Income</th>\n",
       "      <td>10.175068</td>\n",
       "      <td>0.0</td>\n",
       "      <td>30.0</td>\n",
       "    </tr>\n",
       "    <tr>\n",
       "      <th>Low Income</th>\n",
       "      <td>11.119970</td>\n",
       "      <td>0.0</td>\n",
       "      <td>30.0</td>\n",
       "    </tr>\n",
       "    <tr>\n",
       "      <th>Middle Income</th>\n",
       "      <td>10.328130</td>\n",
       "      <td>0.0</td>\n",
       "      <td>30.0</td>\n",
       "    </tr>\n",
       "  </tbody>\n",
       "</table>\n",
       "</div>"
      ],
      "text/plain": [
       "              median_days_since_prior_order           \n",
       "                                       mean  min   max\n",
       "income_flag                                           \n",
       "High Income                       10.175068  0.0  30.0\n",
       "Low Income                        11.119970  0.0  30.0\n",
       "Middle Income                     10.328130  0.0  30.0"
      ]
     },
     "execution_count": 59,
     "metadata": {},
     "output_type": "execute_result"
    }
   ],
   "source": [
    "#aggregating for income_flag order frequency\n",
    "ords_prods_cus.groupby('income_flag').agg({'median_days_since_prior_order': ['mean', 'min', 'max']})"
   ]
  },
  {
   "cell_type": "markdown",
   "id": "48fa5310",
   "metadata": {},
   "source": [
    "#### 8c. marital_status aggregation for usage frequency & expenditure"
   ]
  },
  {
   "cell_type": "code",
   "execution_count": 60,
   "id": "b1cd6a2f",
   "metadata": {},
   "outputs": [
    {
     "data": {
      "text/html": [
       "<div>\n",
       "<style scoped>\n",
       "    .dataframe tbody tr th:only-of-type {\n",
       "        vertical-align: middle;\n",
       "    }\n",
       "\n",
       "    .dataframe tbody tr th {\n",
       "        vertical-align: top;\n",
       "    }\n",
       "\n",
       "    .dataframe thead tr th {\n",
       "        text-align: left;\n",
       "    }\n",
       "\n",
       "    .dataframe thead tr:last-of-type th {\n",
       "        text-align: right;\n",
       "    }\n",
       "</style>\n",
       "<table border=\"1\" class=\"dataframe\">\n",
       "  <thead>\n",
       "    <tr>\n",
       "      <th></th>\n",
       "      <th colspan=\"3\" halign=\"left\">prices</th>\n",
       "    </tr>\n",
       "    <tr>\n",
       "      <th></th>\n",
       "      <th>mean</th>\n",
       "      <th>min</th>\n",
       "      <th>max</th>\n",
       "    </tr>\n",
       "    <tr>\n",
       "      <th>marital_status</th>\n",
       "      <th></th>\n",
       "      <th></th>\n",
       "      <th></th>\n",
       "    </tr>\n",
       "  </thead>\n",
       "  <tbody>\n",
       "    <tr>\n",
       "      <th>divorced/widowed</th>\n",
       "      <td>7.801018</td>\n",
       "      <td>1.0</td>\n",
       "      <td>25.0</td>\n",
       "    </tr>\n",
       "    <tr>\n",
       "      <th>living with parents and siblings</th>\n",
       "      <td>7.800799</td>\n",
       "      <td>1.0</td>\n",
       "      <td>25.0</td>\n",
       "    </tr>\n",
       "    <tr>\n",
       "      <th>married</th>\n",
       "      <td>7.790743</td>\n",
       "      <td>1.0</td>\n",
       "      <td>25.0</td>\n",
       "    </tr>\n",
       "    <tr>\n",
       "      <th>single</th>\n",
       "      <td>7.784273</td>\n",
       "      <td>1.0</td>\n",
       "      <td>25.0</td>\n",
       "    </tr>\n",
       "  </tbody>\n",
       "</table>\n",
       "</div>"
      ],
      "text/plain": [
       "                                    prices           \n",
       "                                      mean  min   max\n",
       "marital_status                                       \n",
       "divorced/widowed                  7.801018  1.0  25.0\n",
       "living with parents and siblings  7.800799  1.0  25.0\n",
       "married                           7.790743  1.0  25.0\n",
       "single                            7.784273  1.0  25.0"
      ]
     },
     "execution_count": 60,
     "metadata": {},
     "output_type": "execute_result"
    }
   ],
   "source": [
    "#aggregating for marital_status expenditure\n",
    "ords_prods_cus.groupby('marital_status').agg({'prices': ['mean', 'min', 'max']})"
   ]
  },
  {
   "cell_type": "code",
   "execution_count": 61,
   "id": "df5ae04d",
   "metadata": {},
   "outputs": [
    {
     "data": {
      "text/html": [
       "<div>\n",
       "<style scoped>\n",
       "    .dataframe tbody tr th:only-of-type {\n",
       "        vertical-align: middle;\n",
       "    }\n",
       "\n",
       "    .dataframe tbody tr th {\n",
       "        vertical-align: top;\n",
       "    }\n",
       "\n",
       "    .dataframe thead tr th {\n",
       "        text-align: left;\n",
       "    }\n",
       "\n",
       "    .dataframe thead tr:last-of-type th {\n",
       "        text-align: right;\n",
       "    }\n",
       "</style>\n",
       "<table border=\"1\" class=\"dataframe\">\n",
       "  <thead>\n",
       "    <tr>\n",
       "      <th></th>\n",
       "      <th colspan=\"3\" halign=\"left\">median_days_since_prior_order</th>\n",
       "    </tr>\n",
       "    <tr>\n",
       "      <th></th>\n",
       "      <th>mean</th>\n",
       "      <th>min</th>\n",
       "      <th>max</th>\n",
       "    </tr>\n",
       "    <tr>\n",
       "      <th>marital_status</th>\n",
       "      <th></th>\n",
       "      <th></th>\n",
       "      <th></th>\n",
       "    </tr>\n",
       "  </thead>\n",
       "  <tbody>\n",
       "    <tr>\n",
       "      <th>divorced/widowed</th>\n",
       "      <td>10.314168</td>\n",
       "      <td>0.0</td>\n",
       "      <td>30.0</td>\n",
       "    </tr>\n",
       "    <tr>\n",
       "      <th>living with parents and siblings</th>\n",
       "      <td>10.322765</td>\n",
       "      <td>0.0</td>\n",
       "      <td>30.0</td>\n",
       "    </tr>\n",
       "    <tr>\n",
       "      <th>married</th>\n",
       "      <td>10.412608</td>\n",
       "      <td>0.0</td>\n",
       "      <td>30.0</td>\n",
       "    </tr>\n",
       "    <tr>\n",
       "      <th>single</th>\n",
       "      <td>10.393819</td>\n",
       "      <td>0.0</td>\n",
       "      <td>30.0</td>\n",
       "    </tr>\n",
       "  </tbody>\n",
       "</table>\n",
       "</div>"
      ],
      "text/plain": [
       "                                 median_days_since_prior_order           \n",
       "                                                          mean  min   max\n",
       "marital_status                                                           \n",
       "divorced/widowed                                     10.314168  0.0  30.0\n",
       "living with parents and siblings                     10.322765  0.0  30.0\n",
       "married                                              10.412608  0.0  30.0\n",
       "single                                               10.393819  0.0  30.0"
      ]
     },
     "execution_count": 61,
     "metadata": {},
     "output_type": "execute_result"
    }
   ],
   "source": [
    "#aggregating for marital_status order frequency\n",
    "ords_prods_cus.groupby('marital_status').agg({'median_days_since_prior_order': ['mean', 'min', 'max']})"
   ]
  },
  {
   "cell_type": "markdown",
   "id": "2269ce81",
   "metadata": {},
   "source": [
    "##### 8d. dependents_flag aggregation for usage frequency & expenditure"
   ]
  },
  {
   "cell_type": "code",
   "execution_count": 62,
   "id": "98ea6c8e",
   "metadata": {},
   "outputs": [
    {
     "data": {
      "text/html": [
       "<div>\n",
       "<style scoped>\n",
       "    .dataframe tbody tr th:only-of-type {\n",
       "        vertical-align: middle;\n",
       "    }\n",
       "\n",
       "    .dataframe tbody tr th {\n",
       "        vertical-align: top;\n",
       "    }\n",
       "\n",
       "    .dataframe thead tr th {\n",
       "        text-align: left;\n",
       "    }\n",
       "\n",
       "    .dataframe thead tr:last-of-type th {\n",
       "        text-align: right;\n",
       "    }\n",
       "</style>\n",
       "<table border=\"1\" class=\"dataframe\">\n",
       "  <thead>\n",
       "    <tr>\n",
       "      <th></th>\n",
       "      <th colspan=\"3\" halign=\"left\">prices</th>\n",
       "    </tr>\n",
       "    <tr>\n",
       "      <th></th>\n",
       "      <th>mean</th>\n",
       "      <th>min</th>\n",
       "      <th>max</th>\n",
       "    </tr>\n",
       "    <tr>\n",
       "      <th>dependents_flag</th>\n",
       "      <th></th>\n",
       "      <th></th>\n",
       "      <th></th>\n",
       "    </tr>\n",
       "  </thead>\n",
       "  <tbody>\n",
       "    <tr>\n",
       "      <th>No dependent</th>\n",
       "      <td>7.790005</td>\n",
       "      <td>1.0</td>\n",
       "      <td>25.0</td>\n",
       "    </tr>\n",
       "    <tr>\n",
       "      <th>With dependents</th>\n",
       "      <td>7.791384</td>\n",
       "      <td>1.0</td>\n",
       "      <td>25.0</td>\n",
       "    </tr>\n",
       "  </tbody>\n",
       "</table>\n",
       "</div>"
      ],
      "text/plain": [
       "                   prices           \n",
       "                     mean  min   max\n",
       "dependents_flag                     \n",
       "No dependent     7.790005  1.0  25.0\n",
       "With dependents  7.791384  1.0  25.0"
      ]
     },
     "execution_count": 62,
     "metadata": {},
     "output_type": "execute_result"
    }
   ],
   "source": [
    "#aggregating for dependents_flag expenditure\n",
    "ords_prods_cus.groupby('dependents_flag').agg({'prices': ['mean', 'min', 'max']})"
   ]
  },
  {
   "cell_type": "code",
   "execution_count": 63,
   "id": "02a6f8f1",
   "metadata": {},
   "outputs": [
    {
     "data": {
      "text/html": [
       "<div>\n",
       "<style scoped>\n",
       "    .dataframe tbody tr th:only-of-type {\n",
       "        vertical-align: middle;\n",
       "    }\n",
       "\n",
       "    .dataframe tbody tr th {\n",
       "        vertical-align: top;\n",
       "    }\n",
       "\n",
       "    .dataframe thead tr th {\n",
       "        text-align: left;\n",
       "    }\n",
       "\n",
       "    .dataframe thead tr:last-of-type th {\n",
       "        text-align: right;\n",
       "    }\n",
       "</style>\n",
       "<table border=\"1\" class=\"dataframe\">\n",
       "  <thead>\n",
       "    <tr>\n",
       "      <th></th>\n",
       "      <th colspan=\"3\" halign=\"left\">median_days_since_prior_order</th>\n",
       "    </tr>\n",
       "    <tr>\n",
       "      <th></th>\n",
       "      <th>mean</th>\n",
       "      <th>min</th>\n",
       "      <th>max</th>\n",
       "    </tr>\n",
       "    <tr>\n",
       "      <th>dependents_flag</th>\n",
       "      <th></th>\n",
       "      <th></th>\n",
       "      <th></th>\n",
       "    </tr>\n",
       "  </thead>\n",
       "  <tbody>\n",
       "    <tr>\n",
       "      <th>No dependent</th>\n",
       "      <td>10.366554</td>\n",
       "      <td>0.0</td>\n",
       "      <td>30.0</td>\n",
       "    </tr>\n",
       "    <tr>\n",
       "      <th>With dependents</th>\n",
       "      <td>10.406877</td>\n",
       "      <td>0.0</td>\n",
       "      <td>30.0</td>\n",
       "    </tr>\n",
       "  </tbody>\n",
       "</table>\n",
       "</div>"
      ],
      "text/plain": [
       "                median_days_since_prior_order           \n",
       "                                         mean  min   max\n",
       "dependents_flag                                         \n",
       "No dependent                        10.366554  0.0  30.0\n",
       "With dependents                     10.406877  0.0  30.0"
      ]
     },
     "execution_count": 63,
     "metadata": {},
     "output_type": "execute_result"
    }
   ],
   "source": [
    "#aggregating for marital_status order frequency\n",
    "ords_prods_cus.groupby('dependents_flag').agg({'median_days_since_prior_order': ['mean', 'min', 'max']})"
   ]
  },
  {
   "cell_type": "markdown",
   "id": "e1659f35",
   "metadata": {},
   "source": [
    "#### 8e.department(those who bought babies products & international) aggregation for expenditure"
   ]
  },
  {
   "cell_type": "code",
   "execution_count": 64,
   "id": "b9c058a5",
   "metadata": {},
   "outputs": [
    {
     "data": {
      "text/html": [
       "<div>\n",
       "<style scoped>\n",
       "    .dataframe tbody tr th:only-of-type {\n",
       "        vertical-align: middle;\n",
       "    }\n",
       "\n",
       "    .dataframe tbody tr th {\n",
       "        vertical-align: top;\n",
       "    }\n",
       "\n",
       "    .dataframe thead tr th {\n",
       "        text-align: left;\n",
       "    }\n",
       "\n",
       "    .dataframe thead tr:last-of-type th {\n",
       "        text-align: right;\n",
       "    }\n",
       "</style>\n",
       "<table border=\"1\" class=\"dataframe\">\n",
       "  <thead>\n",
       "    <tr>\n",
       "      <th></th>\n",
       "      <th colspan=\"3\" halign=\"left\">prices</th>\n",
       "    </tr>\n",
       "    <tr>\n",
       "      <th></th>\n",
       "      <th>mean</th>\n",
       "      <th>min</th>\n",
       "      <th>max</th>\n",
       "    </tr>\n",
       "    <tr>\n",
       "      <th>department</th>\n",
       "      <th></th>\n",
       "      <th></th>\n",
       "      <th></th>\n",
       "    </tr>\n",
       "  </thead>\n",
       "  <tbody>\n",
       "    <tr>\n",
       "      <th>babies</th>\n",
       "      <td>7.638374</td>\n",
       "      <td>1.0</td>\n",
       "      <td>15.0</td>\n",
       "    </tr>\n",
       "  </tbody>\n",
       "</table>\n",
       "</div>"
      ],
      "text/plain": [
       "              prices           \n",
       "                mean  min   max\n",
       "department                     \n",
       "babies      7.638374  1.0  15.0"
      ]
     },
     "execution_count": 64,
     "metadata": {},
     "output_type": "execute_result"
    }
   ],
   "source": [
    "#aggregating for department expenditure (bought babies products)\n",
    "parents.groupby('department').agg({'prices': ['mean', 'min', 'max']})"
   ]
  },
  {
   "cell_type": "code",
   "execution_count": 65,
   "id": "b65ca4c6",
   "metadata": {},
   "outputs": [
    {
     "data": {
      "text/html": [
       "<div>\n",
       "<style scoped>\n",
       "    .dataframe tbody tr th:only-of-type {\n",
       "        vertical-align: middle;\n",
       "    }\n",
       "\n",
       "    .dataframe tbody tr th {\n",
       "        vertical-align: top;\n",
       "    }\n",
       "\n",
       "    .dataframe thead tr th {\n",
       "        text-align: left;\n",
       "    }\n",
       "\n",
       "    .dataframe thead tr:last-of-type th {\n",
       "        text-align: right;\n",
       "    }\n",
       "</style>\n",
       "<table border=\"1\" class=\"dataframe\">\n",
       "  <thead>\n",
       "    <tr>\n",
       "      <th></th>\n",
       "      <th colspan=\"3\" halign=\"left\">prices</th>\n",
       "    </tr>\n",
       "    <tr>\n",
       "      <th></th>\n",
       "      <th>mean</th>\n",
       "      <th>min</th>\n",
       "      <th>max</th>\n",
       "    </tr>\n",
       "    <tr>\n",
       "      <th>department</th>\n",
       "      <th></th>\n",
       "      <th></th>\n",
       "      <th></th>\n",
       "    </tr>\n",
       "  </thead>\n",
       "  <tbody>\n",
       "    <tr>\n",
       "      <th>international</th>\n",
       "      <td>7.682301</td>\n",
       "      <td>1.0</td>\n",
       "      <td>15.0</td>\n",
       "    </tr>\n",
       "  </tbody>\n",
       "</table>\n",
       "</div>"
      ],
      "text/plain": [
       "                 prices           \n",
       "                   mean  min   max\n",
       "department                        \n",
       "international  7.682301  1.0  15.0"
      ]
     },
     "execution_count": 65,
     "metadata": {},
     "output_type": "execute_result"
    }
   ],
   "source": [
    "#aggregating for department expenditure (bought international products)\n",
    "Immigrants.groupby('department').agg({'prices': ['mean', 'min', 'max']})"
   ]
  },
  {
   "cell_type": "markdown",
   "id": "d4b18ccf",
   "metadata": {},
   "source": [
    "### 9. Compare customer profiles with regions and departments"
   ]
  },
  {
   "cell_type": "markdown",
   "id": "4ebcc550",
   "metadata": {},
   "source": [
    "#### 9a. Distribution of age_group across region and departments"
   ]
  },
  {
   "cell_type": "code",
   "execution_count": 66,
   "id": "61862071",
   "metadata": {},
   "outputs": [],
   "source": [
    "# 100% stacked bar chart for regional age distribution \n",
    "#create crosstab for region and age group\n",
    "\n",
    "age_region = pd.crosstab(index=ords_prods_cus['region'], columns=ords_prods_cus['age_group'], normalize=\"index\")\n",
    "\n",
    "#creating cross tab to display labels\n",
    "\n",
    "age_region_labels = pd.crosstab(index=ords_prods_cus['region'],columns=ords_prods_cus['age_group'])"
   ]
  },
  {
   "cell_type": "code",
   "execution_count": 67,
   "id": "b5d37d21",
   "metadata": {},
   "outputs": [
    {
     "data": {
      "image/png": "[encoded data removed]",
      "text/plain": [
       "<Figure size 864x720 with 1 Axes>"
      ]
     },
     "metadata": {
      "needs_background": "light"
     },
     "output_type": "display_data"
    }
   ],
   "source": [
    "#plotting chart\n",
    "age_regional_chart=age_region.plot(kind='bar', \n",
    "                        stacked=True, \n",
    "                        color=['green','orange','blue'], \n",
    "                        figsize=(12,10))\n",
    "\n",
    "plt.legend(loc=\"upper center\", ncol=4)\n",
    "plt.ylabel(\"proportion\")\n",
    "plt.xlabel(\"region\")\n",
    "\n",
    "\n",
    "for n, y in enumerate([*age_region_labels.index.values]):\n",
    "    for (proportion, count, x_loc) in zip(age_region.loc[y],\n",
    "                                         age_region_labels.loc[y],\n",
    "                                          age_region.loc[y].cumsum()):\n",
    "                \n",
    "        plt.text(y=(x_loc - proportion) + (proportion / 2),\n",
    "                 x=n - 0.11,\n",
    "                 s=f'{count}\\n({np.round(proportion * 100, 1)}%)', \n",
    "                 color=\"black\",\n",
    "                 fontsize=12)\n",
    "\n",
    "plt.show()"
   ]
  },
  {
   "cell_type": "code",
   "execution_count": 68,
   "id": "32eae65c",
   "metadata": {},
   "outputs": [
    {
     "data": {
      "text/html": [
       "<div>\n",
       "<style scoped>\n",
       "    .dataframe tbody tr th:only-of-type {\n",
       "        vertical-align: middle;\n",
       "    }\n",
       "\n",
       "    .dataframe tbody tr th {\n",
       "        vertical-align: top;\n",
       "    }\n",
       "\n",
       "    .dataframe thead th {\n",
       "        text-align: right;\n",
       "    }\n",
       "</style>\n",
       "<table border=\"1\" class=\"dataframe\">\n",
       "  <thead>\n",
       "    <tr style=\"text-align: right;\">\n",
       "      <th>department</th>\n",
       "      <th>alcohol</th>\n",
       "      <th>babies</th>\n",
       "      <th>bakery</th>\n",
       "      <th>beverages</th>\n",
       "      <th>breakfast</th>\n",
       "      <th>bulk</th>\n",
       "      <th>canned goods</th>\n",
       "      <th>dairy eggs</th>\n",
       "      <th>deli</th>\n",
       "      <th>dry goods pasta</th>\n",
       "      <th>...</th>\n",
       "      <th>household</th>\n",
       "      <th>international</th>\n",
       "      <th>meat seafood</th>\n",
       "      <th>missing</th>\n",
       "      <th>other</th>\n",
       "      <th>pantry</th>\n",
       "      <th>personal care</th>\n",
       "      <th>pets</th>\n",
       "      <th>produce</th>\n",
       "      <th>snacks</th>\n",
       "    </tr>\n",
       "    <tr>\n",
       "      <th>age_group</th>\n",
       "      <th></th>\n",
       "      <th></th>\n",
       "      <th></th>\n",
       "      <th></th>\n",
       "      <th></th>\n",
       "      <th></th>\n",
       "      <th></th>\n",
       "      <th></th>\n",
       "      <th></th>\n",
       "      <th></th>\n",
       "      <th></th>\n",
       "      <th></th>\n",
       "      <th></th>\n",
       "      <th></th>\n",
       "      <th></th>\n",
       "      <th></th>\n",
       "      <th></th>\n",
       "      <th></th>\n",
       "      <th></th>\n",
       "      <th></th>\n",
       "      <th></th>\n",
       "    </tr>\n",
       "  </thead>\n",
       "  <tbody>\n",
       "    <tr>\n",
       "      <th>Adult</th>\n",
       "      <td>0.004743</td>\n",
       "      <td>0.013180</td>\n",
       "      <td>0.036216</td>\n",
       "      <td>0.082984</td>\n",
       "      <td>0.021734</td>\n",
       "      <td>0.001059</td>\n",
       "      <td>0.032966</td>\n",
       "      <td>0.166640</td>\n",
       "      <td>0.032508</td>\n",
       "      <td>0.026711</td>\n",
       "      <td>...</td>\n",
       "      <td>0.022731</td>\n",
       "      <td>0.008314</td>\n",
       "      <td>0.021716</td>\n",
       "      <td>0.002126</td>\n",
       "      <td>0.001124</td>\n",
       "      <td>0.057831</td>\n",
       "      <td>0.013879</td>\n",
       "      <td>0.002938</td>\n",
       "      <td>0.292374</td>\n",
       "      <td>0.089376</td>\n",
       "    </tr>\n",
       "    <tr>\n",
       "      <th>Senior</th>\n",
       "      <td>0.004550</td>\n",
       "      <td>0.012764</td>\n",
       "      <td>0.036097</td>\n",
       "      <td>0.083344</td>\n",
       "      <td>0.021440</td>\n",
       "      <td>0.001078</td>\n",
       "      <td>0.032939</td>\n",
       "      <td>0.166324</td>\n",
       "      <td>0.032376</td>\n",
       "      <td>0.026699</td>\n",
       "      <td>...</td>\n",
       "      <td>0.022961</td>\n",
       "      <td>0.008254</td>\n",
       "      <td>0.022172</td>\n",
       "      <td>0.002110</td>\n",
       "      <td>0.001099</td>\n",
       "      <td>0.057957</td>\n",
       "      <td>0.013690</td>\n",
       "      <td>0.003066</td>\n",
       "      <td>0.293159</td>\n",
       "      <td>0.088689</td>\n",
       "    </tr>\n",
       "    <tr>\n",
       "      <th>Young adult</th>\n",
       "      <td>0.005192</td>\n",
       "      <td>0.013264</td>\n",
       "      <td>0.036192</td>\n",
       "      <td>0.081712</td>\n",
       "      <td>0.022093</td>\n",
       "      <td>0.001084</td>\n",
       "      <td>0.032986</td>\n",
       "      <td>0.167096</td>\n",
       "      <td>0.032229</td>\n",
       "      <td>0.027052</td>\n",
       "      <td>...</td>\n",
       "      <td>0.022726</td>\n",
       "      <td>0.008417</td>\n",
       "      <td>0.022089</td>\n",
       "      <td>0.002236</td>\n",
       "      <td>0.001148</td>\n",
       "      <td>0.057913</td>\n",
       "      <td>0.013716</td>\n",
       "      <td>0.003338</td>\n",
       "      <td>0.291968</td>\n",
       "      <td>0.088597</td>\n",
       "    </tr>\n",
       "  </tbody>\n",
       "</table>\n",
       "<p>3 rows × 21 columns</p>\n",
       "</div>"
      ],
      "text/plain": [
       "department    alcohol    babies    bakery  beverages  breakfast      bulk  \\\n",
       "age_group                                                                   \n",
       "Adult        0.004743  0.013180  0.036216   0.082984   0.021734  0.001059   \n",
       "Senior       0.004550  0.012764  0.036097   0.083344   0.021440  0.001078   \n",
       "Young adult  0.005192  0.013264  0.036192   0.081712   0.022093  0.001084   \n",
       "\n",
       "department   canned goods  dairy eggs      deli  dry goods pasta  ...  \\\n",
       "age_group                                                         ...   \n",
       "Adult            0.032966    0.166640  0.032508         0.026711  ...   \n",
       "Senior           0.032939    0.166324  0.032376         0.026699  ...   \n",
       "Young adult      0.032986    0.167096  0.032229         0.027052  ...   \n",
       "\n",
       "department   household  international  meat seafood   missing     other  \\\n",
       "age_group                                                                 \n",
       "Adult         0.022731       0.008314      0.021716  0.002126  0.001124   \n",
       "Senior        0.022961       0.008254      0.022172  0.002110  0.001099   \n",
       "Young adult   0.022726       0.008417      0.022089  0.002236  0.001148   \n",
       "\n",
       "department     pantry  personal care      pets   produce    snacks  \n",
       "age_group                                                           \n",
       "Adult        0.057831       0.013879  0.002938  0.292374  0.089376  \n",
       "Senior       0.057957       0.013690  0.003066  0.293159  0.088689  \n",
       "Young adult  0.057913       0.013716  0.003338  0.291968  0.088597  \n",
       "\n",
       "[3 rows x 21 columns]"
      ]
     },
     "execution_count": 68,
     "metadata": {},
     "output_type": "execute_result"
    }
   ],
   "source": [
    "# create a table to compare age group and deparment\n",
    "#table showing the proportion of products bought in each department for each age group\n",
    "age_dep_cross=pd.crosstab(ords_prods_cus['age_group'], ords_prods_cus['department'], normalize='index', dropna = False)\n",
    "age_dep_cross"
   ]
  },
  {
   "cell_type": "code",
   "execution_count": 69,
   "id": "87a76da9",
   "metadata": {},
   "outputs": [],
   "source": [
    "# copy\n",
    "age_dep_cross.to_clipboard()"
   ]
  },
  {
   "cell_type": "markdown",
   "id": "a40ef7e5",
   "metadata": {},
   "source": [
    "#### 9b Distribution of income across region and department"
   ]
  },
  {
   "cell_type": "code",
   "execution_count": 70,
   "id": "0a2d0566",
   "metadata": {},
   "outputs": [],
   "source": [
    "# 100% stacked bar chart for income distribution \n",
    "#create crosstab for region and income_flag\n",
    "\n",
    "income_region = pd.crosstab(index=ords_prods_cus['region'], columns=ords_prods_cus['income_flag'], normalize=\"index\")\n",
    "\n",
    "#creating cross tab to display labels\n",
    "\n",
    "income_region_labels = pd.crosstab(index=ords_prods_cus['region'],columns=ords_prods_cus['income_flag'])"
   ]
  },
  {
   "cell_type": "code",
   "execution_count": 71,
   "id": "48ddd508",
   "metadata": {},
   "outputs": [
    {
     "data": {
      "image/png": "[encoded data removed]",
      "text/plain": [
       "<Figure size 864x720 with 1 Axes>"
      ]
     },
     "metadata": {
      "needs_background": "light"
     },
     "output_type": "display_data"
    }
   ],
   "source": [
    "#plotting chart\n",
    "income_regional_chart=income_region.plot(kind='bar', \n",
    "                        stacked=True, \n",
    "                        color=['blue','cyan','orange'], \n",
    "                        figsize=(12,10))\n",
    "\n",
    "plt.legend(loc=\"upper center\", ncol=4)\n",
    "plt.ylabel(\"proportion\")\n",
    "plt.xlabel(\"region\")\n",
    "\n",
    "\n",
    "for n, y in enumerate([*income_region_labels.index.values]):\n",
    "    for (proportion, count, x_loc) in zip(income_region.loc[y],\n",
    "                                         income_region_labels.loc[y],\n",
    "                                          income_region.loc[y].cumsum()):\n",
    "                \n",
    "        plt.text(y=(x_loc - proportion) + (proportion / 2),\n",
    "                 x=n - 0.11,\n",
    "                 s=f'{count}\\n({np.round(proportion * 100, 1)}%)', \n",
    "                 color=\"black\",\n",
    "                 fontsize=12)\n",
    "\n",
    "plt.show()"
   ]
  },
  {
   "cell_type": "code",
   "execution_count": 72,
   "id": "2242d169",
   "metadata": {},
   "outputs": [
    {
     "data": {
      "text/html": [
       "<div>\n",
       "<style scoped>\n",
       "    .dataframe tbody tr th:only-of-type {\n",
       "        vertical-align: middle;\n",
       "    }\n",
       "\n",
       "    .dataframe tbody tr th {\n",
       "        vertical-align: top;\n",
       "    }\n",
       "\n",
       "    .dataframe thead th {\n",
       "        text-align: right;\n",
       "    }\n",
       "</style>\n",
       "<table border=\"1\" class=\"dataframe\">\n",
       "  <thead>\n",
       "    <tr style=\"text-align: right;\">\n",
       "      <th>department</th>\n",
       "      <th>alcohol</th>\n",
       "      <th>babies</th>\n",
       "      <th>bakery</th>\n",
       "      <th>beverages</th>\n",
       "      <th>breakfast</th>\n",
       "      <th>bulk</th>\n",
       "      <th>canned goods</th>\n",
       "      <th>dairy eggs</th>\n",
       "      <th>deli</th>\n",
       "      <th>dry goods pasta</th>\n",
       "      <th>...</th>\n",
       "      <th>household</th>\n",
       "      <th>international</th>\n",
       "      <th>meat seafood</th>\n",
       "      <th>missing</th>\n",
       "      <th>other</th>\n",
       "      <th>pantry</th>\n",
       "      <th>personal care</th>\n",
       "      <th>pets</th>\n",
       "      <th>produce</th>\n",
       "      <th>snacks</th>\n",
       "    </tr>\n",
       "    <tr>\n",
       "      <th>income_flag</th>\n",
       "      <th></th>\n",
       "      <th></th>\n",
       "      <th></th>\n",
       "      <th></th>\n",
       "      <th></th>\n",
       "      <th></th>\n",
       "      <th></th>\n",
       "      <th></th>\n",
       "      <th></th>\n",
       "      <th></th>\n",
       "      <th></th>\n",
       "      <th></th>\n",
       "      <th></th>\n",
       "      <th></th>\n",
       "      <th></th>\n",
       "      <th></th>\n",
       "      <th></th>\n",
       "      <th></th>\n",
       "      <th></th>\n",
       "      <th></th>\n",
       "      <th></th>\n",
       "    </tr>\n",
       "  </thead>\n",
       "  <tbody>\n",
       "    <tr>\n",
       "      <th>High Income</th>\n",
       "      <td>0.006159</td>\n",
       "      <td>0.013436</td>\n",
       "      <td>0.038028</td>\n",
       "      <td>0.080250</td>\n",
       "      <td>0.021440</td>\n",
       "      <td>0.000931</td>\n",
       "      <td>0.034248</td>\n",
       "      <td>0.168912</td>\n",
       "      <td>0.032339</td>\n",
       "      <td>0.027464</td>\n",
       "      <td>...</td>\n",
       "      <td>0.023889</td>\n",
       "      <td>0.008463</td>\n",
       "      <td>0.023630</td>\n",
       "      <td>0.002157</td>\n",
       "      <td>0.001172</td>\n",
       "      <td>0.059808</td>\n",
       "      <td>0.013836</td>\n",
       "      <td>0.003336</td>\n",
       "      <td>0.291083</td>\n",
       "      <td>0.07825</td>\n",
       "    </tr>\n",
       "    <tr>\n",
       "      <th>Low Income</th>\n",
       "      <td>0.005510</td>\n",
       "      <td>0.008588</td>\n",
       "      <td>0.031920</td>\n",
       "      <td>0.112774</td>\n",
       "      <td>0.027094</td>\n",
       "      <td>0.001360</td>\n",
       "      <td>0.024111</td>\n",
       "      <td>0.148885</td>\n",
       "      <td>0.031750</td>\n",
       "      <td>0.019658</td>\n",
       "      <td>...</td>\n",
       "      <td>0.026197</td>\n",
       "      <td>0.006523</td>\n",
       "      <td>0.010314</td>\n",
       "      <td>0.002015</td>\n",
       "      <td>0.001163</td>\n",
       "      <td>0.049926</td>\n",
       "      <td>0.014397</td>\n",
       "      <td>0.002590</td>\n",
       "      <td>0.245460</td>\n",
       "      <td>0.16480</td>\n",
       "    </tr>\n",
       "    <tr>\n",
       "      <th>Middle Income</th>\n",
       "      <td>0.004398</td>\n",
       "      <td>0.013672</td>\n",
       "      <td>0.036498</td>\n",
       "      <td>0.079049</td>\n",
       "      <td>0.020954</td>\n",
       "      <td>0.001047</td>\n",
       "      <td>0.034035</td>\n",
       "      <td>0.168802</td>\n",
       "      <td>0.032560</td>\n",
       "      <td>0.027656</td>\n",
       "      <td>...</td>\n",
       "      <td>0.022118</td>\n",
       "      <td>0.008544</td>\n",
       "      <td>0.023269</td>\n",
       "      <td>0.002147</td>\n",
       "      <td>0.001105</td>\n",
       "      <td>0.058711</td>\n",
       "      <td>0.013722</td>\n",
       "      <td>0.003025</td>\n",
       "      <td>0.299606</td>\n",
       "      <td>0.07990</td>\n",
       "    </tr>\n",
       "  </tbody>\n",
       "</table>\n",
       "<p>3 rows × 21 columns</p>\n",
       "</div>"
      ],
      "text/plain": [
       "department      alcohol    babies    bakery  beverages  breakfast      bulk  \\\n",
       "income_flag                                                                   \n",
       "High Income    0.006159  0.013436  0.038028   0.080250   0.021440  0.000931   \n",
       "Low Income     0.005510  0.008588  0.031920   0.112774   0.027094  0.001360   \n",
       "Middle Income  0.004398  0.013672  0.036498   0.079049   0.020954  0.001047   \n",
       "\n",
       "department     canned goods  dairy eggs      deli  dry goods pasta  ...  \\\n",
       "income_flag                                                         ...   \n",
       "High Income        0.034248    0.168912  0.032339         0.027464  ...   \n",
       "Low Income         0.024111    0.148885  0.031750         0.019658  ...   \n",
       "Middle Income      0.034035    0.168802  0.032560         0.027656  ...   \n",
       "\n",
       "department     household  international  meat seafood   missing     other  \\\n",
       "income_flag                                                                 \n",
       "High Income     0.023889       0.008463      0.023630  0.002157  0.001172   \n",
       "Low Income      0.026197       0.006523      0.010314  0.002015  0.001163   \n",
       "Middle Income   0.022118       0.008544      0.023269  0.002147  0.001105   \n",
       "\n",
       "department       pantry  personal care      pets   produce   snacks  \n",
       "income_flag                                                          \n",
       "High Income    0.059808       0.013836  0.003336  0.291083  0.07825  \n",
       "Low Income     0.049926       0.014397  0.002590  0.245460  0.16480  \n",
       "Middle Income  0.058711       0.013722  0.003025  0.299606  0.07990  \n",
       "\n",
       "[3 rows x 21 columns]"
      ]
     },
     "execution_count": 72,
     "metadata": {},
     "output_type": "execute_result"
    }
   ],
   "source": [
    "# create a table to compare income_flag and deparment\n",
    "#table showing the proportion of products in each department for each customers's income category\n",
    "income_dep_cross=pd.crosstab(ords_prods_cus['income_flag'], ords_prods_cus['department'], normalize='index', dropna = False)\n",
    "income_dep_cross"
   ]
  },
  {
   "cell_type": "code",
   "execution_count": 73,
   "id": "9e5e51b2",
   "metadata": {},
   "outputs": [],
   "source": [
    "# copy to clipboard\n",
    "income_dep_cross.to_clipboard()"
   ]
  },
  {
   "cell_type": "markdown",
   "id": "2edd349f",
   "metadata": {},
   "source": [
    "#### 9c. Distribution of marital_status across region and department"
   ]
  },
  {
   "cell_type": "code",
   "execution_count": 74,
   "id": "53be840e",
   "metadata": {},
   "outputs": [],
   "source": [
    "# 100% stacked bar chart for marital_status distribution \n",
    "#create crosstab for region and marital_status\n",
    "\n",
    "marital_region = pd.crosstab(index=ords_prods_cus['region'], columns=ords_prods_cus['marital_status'], normalize=\"index\")\n",
    "\n",
    "#creating cross tab to display labels\n",
    "\n",
    "marital_region_labels = pd.crosstab(index=ords_prods_cus['region'],columns=ords_prods_cus['marital_status'])"
   ]
  },
  {
   "cell_type": "code",
   "execution_count": 75,
   "id": "9cc6350c",
   "metadata": {},
   "outputs": [
    {
     "data": {
      "image/png": "[encoded data removed]",
      "text/plain": [
       "<Figure size 864x720 with 1 Axes>"
      ]
     },
     "metadata": {
      "needs_background": "light"
     },
     "output_type": "display_data"
    }
   ],
   "source": [
    "#plotting chart\n",
    "marital_regional_chart=marital_region.plot(kind='bar', \n",
    "                        stacked=True, \n",
    "                        color=['blue','orange','green','purple'], \n",
    "                        figsize=(12,10))\n",
    "\n",
    "plt.legend(loc=\"upper center\", ncol=4)\n",
    "plt.ylabel(\"proportion\")\n",
    "plt.xlabel(\"region\")\n",
    "\n",
    "\n",
    "for n, y in enumerate([*marital_region_labels.index.values]):\n",
    "    for (proportion, count, x_loc) in zip(marital_region.loc[y],\n",
    "                                         marital_region_labels.loc[y],\n",
    "                                          marital_region.loc[y].cumsum()):\n",
    "                \n",
    "        plt.text(y=(x_loc - proportion) + (proportion / 2),\n",
    "                 x=n - 0.11,\n",
    "                 s=f'{count}\\n({np.round(proportion * 100, 1)}%)', \n",
    "                 color=\"black\",\n",
    "                 fontsize=12)\n",
    "\n",
    "plt.show()"
   ]
  },
  {
   "cell_type": "code",
   "execution_count": 76,
   "id": "603fc055",
   "metadata": {},
   "outputs": [
    {
     "data": {
      "text/html": [
       "<div>\n",
       "<style scoped>\n",
       "    .dataframe tbody tr th:only-of-type {\n",
       "        vertical-align: middle;\n",
       "    }\n",
       "\n",
       "    .dataframe tbody tr th {\n",
       "        vertical-align: top;\n",
       "    }\n",
       "\n",
       "    .dataframe thead th {\n",
       "        text-align: right;\n",
       "    }\n",
       "</style>\n",
       "<table border=\"1\" class=\"dataframe\">\n",
       "  <thead>\n",
       "    <tr style=\"text-align: right;\">\n",
       "      <th>department</th>\n",
       "      <th>alcohol</th>\n",
       "      <th>babies</th>\n",
       "      <th>bakery</th>\n",
       "      <th>beverages</th>\n",
       "      <th>breakfast</th>\n",
       "      <th>bulk</th>\n",
       "      <th>canned goods</th>\n",
       "      <th>dairy eggs</th>\n",
       "      <th>deli</th>\n",
       "      <th>dry goods pasta</th>\n",
       "      <th>...</th>\n",
       "      <th>household</th>\n",
       "      <th>international</th>\n",
       "      <th>meat seafood</th>\n",
       "      <th>missing</th>\n",
       "      <th>other</th>\n",
       "      <th>pantry</th>\n",
       "      <th>personal care</th>\n",
       "      <th>pets</th>\n",
       "      <th>produce</th>\n",
       "      <th>snacks</th>\n",
       "    </tr>\n",
       "    <tr>\n",
       "      <th>marital_status</th>\n",
       "      <th></th>\n",
       "      <th></th>\n",
       "      <th></th>\n",
       "      <th></th>\n",
       "      <th></th>\n",
       "      <th></th>\n",
       "      <th></th>\n",
       "      <th></th>\n",
       "      <th></th>\n",
       "      <th></th>\n",
       "      <th></th>\n",
       "      <th></th>\n",
       "      <th></th>\n",
       "      <th></th>\n",
       "      <th></th>\n",
       "      <th></th>\n",
       "      <th></th>\n",
       "      <th></th>\n",
       "      <th></th>\n",
       "      <th></th>\n",
       "      <th></th>\n",
       "    </tr>\n",
       "  </thead>\n",
       "  <tbody>\n",
       "    <tr>\n",
       "      <th>divorced/widowed</th>\n",
       "      <td>0.004548</td>\n",
       "      <td>0.012746</td>\n",
       "      <td>0.036223</td>\n",
       "      <td>0.083332</td>\n",
       "      <td>0.021466</td>\n",
       "      <td>0.000997</td>\n",
       "      <td>0.032205</td>\n",
       "      <td>0.166648</td>\n",
       "      <td>0.032766</td>\n",
       "      <td>0.026778</td>\n",
       "      <td>...</td>\n",
       "      <td>0.022295</td>\n",
       "      <td>0.008320</td>\n",
       "      <td>0.021821</td>\n",
       "      <td>0.001982</td>\n",
       "      <td>0.001082</td>\n",
       "      <td>0.057714</td>\n",
       "      <td>0.013903</td>\n",
       "      <td>0.003034</td>\n",
       "      <td>0.293264</td>\n",
       "      <td>0.089038</td>\n",
       "    </tr>\n",
       "    <tr>\n",
       "      <th>living with parents and siblings</th>\n",
       "      <td>0.005736</td>\n",
       "      <td>0.012993</td>\n",
       "      <td>0.036208</td>\n",
       "      <td>0.080361</td>\n",
       "      <td>0.022400</td>\n",
       "      <td>0.001080</td>\n",
       "      <td>0.033016</td>\n",
       "      <td>0.168189</td>\n",
       "      <td>0.032513</td>\n",
       "      <td>0.026895</td>\n",
       "      <td>...</td>\n",
       "      <td>0.022712</td>\n",
       "      <td>0.008432</td>\n",
       "      <td>0.021916</td>\n",
       "      <td>0.002303</td>\n",
       "      <td>0.001233</td>\n",
       "      <td>0.058217</td>\n",
       "      <td>0.013744</td>\n",
       "      <td>0.003625</td>\n",
       "      <td>0.289975</td>\n",
       "      <td>0.088459</td>\n",
       "    </tr>\n",
       "    <tr>\n",
       "      <th>married</th>\n",
       "      <td>0.004643</td>\n",
       "      <td>0.013059</td>\n",
       "      <td>0.036117</td>\n",
       "      <td>0.082995</td>\n",
       "      <td>0.021696</td>\n",
       "      <td>0.001082</td>\n",
       "      <td>0.033048</td>\n",
       "      <td>0.166487</td>\n",
       "      <td>0.032329</td>\n",
       "      <td>0.026792</td>\n",
       "      <td>...</td>\n",
       "      <td>0.022964</td>\n",
       "      <td>0.008282</td>\n",
       "      <td>0.022010</td>\n",
       "      <td>0.002131</td>\n",
       "      <td>0.001107</td>\n",
       "      <td>0.057933</td>\n",
       "      <td>0.013808</td>\n",
       "      <td>0.002967</td>\n",
       "      <td>0.292415</td>\n",
       "      <td>0.089186</td>\n",
       "    </tr>\n",
       "    <tr>\n",
       "      <th>single</th>\n",
       "      <td>0.004974</td>\n",
       "      <td>0.013364</td>\n",
       "      <td>0.036430</td>\n",
       "      <td>0.083243</td>\n",
       "      <td>0.021609</td>\n",
       "      <td>0.001035</td>\n",
       "      <td>0.032969</td>\n",
       "      <td>0.166638</td>\n",
       "      <td>0.032736</td>\n",
       "      <td>0.026485</td>\n",
       "      <td>...</td>\n",
       "      <td>0.022336</td>\n",
       "      <td>0.008385</td>\n",
       "      <td>0.021331</td>\n",
       "      <td>0.002177</td>\n",
       "      <td>0.001159</td>\n",
       "      <td>0.057603</td>\n",
       "      <td>0.013793</td>\n",
       "      <td>0.003037</td>\n",
       "      <td>0.293424</td>\n",
       "      <td>0.089002</td>\n",
       "    </tr>\n",
       "  </tbody>\n",
       "</table>\n",
       "<p>4 rows × 21 columns</p>\n",
       "</div>"
      ],
      "text/plain": [
       "department                         alcohol    babies    bakery  beverages  \\\n",
       "marital_status                                                              \n",
       "divorced/widowed                  0.004548  0.012746  0.036223   0.083332   \n",
       "living with parents and siblings  0.005736  0.012993  0.036208   0.080361   \n",
       "married                           0.004643  0.013059  0.036117   0.082995   \n",
       "single                            0.004974  0.013364  0.036430   0.083243   \n",
       "\n",
       "department                        breakfast      bulk  canned goods  \\\n",
       "marital_status                                                        \n",
       "divorced/widowed                   0.021466  0.000997      0.032205   \n",
       "living with parents and siblings   0.022400  0.001080      0.033016   \n",
       "married                            0.021696  0.001082      0.033048   \n",
       "single                             0.021609  0.001035      0.032969   \n",
       "\n",
       "department                        dairy eggs      deli  dry goods pasta  ...  \\\n",
       "marital_status                                                           ...   \n",
       "divorced/widowed                    0.166648  0.032766         0.026778  ...   \n",
       "living with parents and siblings    0.168189  0.032513         0.026895  ...   \n",
       "married                             0.166487  0.032329         0.026792  ...   \n",
       "single                              0.166638  0.032736         0.026485  ...   \n",
       "\n",
       "department                        household  international  meat seafood  \\\n",
       "marital_status                                                             \n",
       "divorced/widowed                   0.022295       0.008320      0.021821   \n",
       "living with parents and siblings   0.022712       0.008432      0.021916   \n",
       "married                            0.022964       0.008282      0.022010   \n",
       "single                             0.022336       0.008385      0.021331   \n",
       "\n",
       "department                         missing     other    pantry  personal care  \\\n",
       "marital_status                                                                  \n",
       "divorced/widowed                  0.001982  0.001082  0.057714       0.013903   \n",
       "living with parents and siblings  0.002303  0.001233  0.058217       0.013744   \n",
       "married                           0.002131  0.001107  0.057933       0.013808   \n",
       "single                            0.002177  0.001159  0.057603       0.013793   \n",
       "\n",
       "department                            pets   produce    snacks  \n",
       "marital_status                                                  \n",
       "divorced/widowed                  0.003034  0.293264  0.089038  \n",
       "living with parents and siblings  0.003625  0.289975  0.088459  \n",
       "married                           0.002967  0.292415  0.089186  \n",
       "single                            0.003037  0.293424  0.089002  \n",
       "\n",
       "[4 rows x 21 columns]"
      ]
     },
     "execution_count": 76,
     "metadata": {},
     "output_type": "execute_result"
    }
   ],
   "source": [
    "# create a table to compare marital status of customers and deparment\n",
    "#table showing the proportion of products in each department for each customers's marital status\n",
    "marital_dep_cross=pd.crosstab(ords_prods_cus['marital_status'], ords_prods_cus['department'], normalize='index', dropna = False)\n",
    "marital_dep_cross"
   ]
  },
  {
   "cell_type": "code",
   "execution_count": 77,
   "id": "ebd79412",
   "metadata": {},
   "outputs": [],
   "source": [
    "marital_dep_cross.to_clipboard()"
   ]
  },
  {
   "cell_type": "markdown",
   "id": "02d6d4fb",
   "metadata": {},
   "source": [
    "#### 9d. Distribution of dependents_flag across region and department"
   ]
  },
  {
   "cell_type": "code",
   "execution_count": 78,
   "id": "b7ffe6b0",
   "metadata": {},
   "outputs": [],
   "source": [
    "# 100% stacked bar chart for dependents_flag distribution \n",
    "#create crosstab for region and dependents_flag\n",
    "\n",
    "dependents_region = pd.crosstab(index=ords_prods_cus['region'], columns=ords_prods_cus['dependents_flag'], normalize=\"index\")\n",
    "\n",
    "#creating cross tab to display labels\n",
    "\n",
    "dependents_region_labels = pd.crosstab(index=ords_prods_cus['region'],columns=ords_prods_cus['dependents_flag'])"
   ]
  },
  {
   "cell_type": "code",
   "execution_count": 79,
   "id": "23465961",
   "metadata": {},
   "outputs": [
    {
     "data": {
      "image/png": "[encoded data removed]",
      "text/plain": [
       "<Figure size 864x720 with 1 Axes>"
      ]
     },
     "metadata": {
      "needs_background": "light"
     },
     "output_type": "display_data"
    }
   ],
   "source": [
    "#plotting chart\n",
    "dependents_regional_chart=dependents_region.plot(kind='bar', \n",
    "                        stacked=True, \n",
    "                        color=['blue','orange'], \n",
    "                        figsize=(12,10))\n",
    "\n",
    "plt.legend(loc=\"upper center\", ncol=4)\n",
    "plt.ylabel(\"proportion\")\n",
    "plt.xlabel(\"region\")\n",
    "\n",
    "\n",
    "for n, y in enumerate([*dependents_region_labels.index.values]):\n",
    "    for (proportion, count, x_loc) in zip(dependents_region.loc[y],\n",
    "                                         dependents_region_labels.loc[y],\n",
    "                                          dependents_region.loc[y].cumsum()):\n",
    "                \n",
    "        plt.text(y=(x_loc - proportion) + (proportion / 2),\n",
    "                 x=n - 0.11,\n",
    "                 s=f'{count}\\n({np.round(proportion * 100, 1)}%)', \n",
    "                 color=\"black\",\n",
    "                 fontsize=12)\n",
    "\n",
    "plt.show()"
   ]
  },
  {
   "cell_type": "code",
   "execution_count": 80,
   "id": "124d1c53",
   "metadata": {},
   "outputs": [
    {
     "data": {
      "text/html": [
       "<div>\n",
       "<style scoped>\n",
       "    .dataframe tbody tr th:only-of-type {\n",
       "        vertical-align: middle;\n",
       "    }\n",
       "\n",
       "    .dataframe tbody tr th {\n",
       "        vertical-align: top;\n",
       "    }\n",
       "\n",
       "    .dataframe thead th {\n",
       "        text-align: right;\n",
       "    }\n",
       "</style>\n",
       "<table border=\"1\" class=\"dataframe\">\n",
       "  <thead>\n",
       "    <tr style=\"text-align: right;\">\n",
       "      <th>department</th>\n",
       "      <th>alcohol</th>\n",
       "      <th>babies</th>\n",
       "      <th>bakery</th>\n",
       "      <th>beverages</th>\n",
       "      <th>breakfast</th>\n",
       "      <th>bulk</th>\n",
       "      <th>canned goods</th>\n",
       "      <th>dairy eggs</th>\n",
       "      <th>deli</th>\n",
       "      <th>dry goods pasta</th>\n",
       "      <th>...</th>\n",
       "      <th>household</th>\n",
       "      <th>international</th>\n",
       "      <th>meat seafood</th>\n",
       "      <th>missing</th>\n",
       "      <th>other</th>\n",
       "      <th>pantry</th>\n",
       "      <th>personal care</th>\n",
       "      <th>pets</th>\n",
       "      <th>produce</th>\n",
       "      <th>snacks</th>\n",
       "    </tr>\n",
       "    <tr>\n",
       "      <th>dependents_flag</th>\n",
       "      <th></th>\n",
       "      <th></th>\n",
       "      <th></th>\n",
       "      <th></th>\n",
       "      <th></th>\n",
       "      <th></th>\n",
       "      <th></th>\n",
       "      <th></th>\n",
       "      <th></th>\n",
       "      <th></th>\n",
       "      <th></th>\n",
       "      <th></th>\n",
       "      <th></th>\n",
       "      <th></th>\n",
       "      <th></th>\n",
       "      <th></th>\n",
       "      <th></th>\n",
       "      <th></th>\n",
       "      <th></th>\n",
       "      <th></th>\n",
       "      <th></th>\n",
       "    </tr>\n",
       "  </thead>\n",
       "  <tbody>\n",
       "    <tr>\n",
       "      <th>No dependent</th>\n",
       "      <td>0.004828</td>\n",
       "      <td>0.013152</td>\n",
       "      <td>0.036359</td>\n",
       "      <td>0.083274</td>\n",
       "      <td>0.021560</td>\n",
       "      <td>0.001022</td>\n",
       "      <td>0.032707</td>\n",
       "      <td>0.166641</td>\n",
       "      <td>0.032746</td>\n",
       "      <td>0.026586</td>\n",
       "      <td>...</td>\n",
       "      <td>0.022322</td>\n",
       "      <td>0.008363</td>\n",
       "      <td>0.021499</td>\n",
       "      <td>0.002110</td>\n",
       "      <td>0.001133</td>\n",
       "      <td>0.057641</td>\n",
       "      <td>0.013831</td>\n",
       "      <td>0.003036</td>\n",
       "      <td>0.293369</td>\n",
       "      <td>0.089015</td>\n",
       "    </tr>\n",
       "    <tr>\n",
       "      <th>With dependents</th>\n",
       "      <td>0.004713</td>\n",
       "      <td>0.013055</td>\n",
       "      <td>0.036123</td>\n",
       "      <td>0.082827</td>\n",
       "      <td>0.021741</td>\n",
       "      <td>0.001082</td>\n",
       "      <td>0.033046</td>\n",
       "      <td>0.166595</td>\n",
       "      <td>0.032341</td>\n",
       "      <td>0.026799</td>\n",
       "      <td>...</td>\n",
       "      <td>0.022948</td>\n",
       "      <td>0.008292</td>\n",
       "      <td>0.022004</td>\n",
       "      <td>0.002142</td>\n",
       "      <td>0.001115</td>\n",
       "      <td>0.057951</td>\n",
       "      <td>0.013804</td>\n",
       "      <td>0.003009</td>\n",
       "      <td>0.292259</td>\n",
       "      <td>0.089140</td>\n",
       "    </tr>\n",
       "  </tbody>\n",
       "</table>\n",
       "<p>2 rows × 21 columns</p>\n",
       "</div>"
      ],
      "text/plain": [
       "department        alcohol    babies    bakery  beverages  breakfast      bulk  \\\n",
       "dependents_flag                                                                 \n",
       "No dependent     0.004828  0.013152  0.036359   0.083274   0.021560  0.001022   \n",
       "With dependents  0.004713  0.013055  0.036123   0.082827   0.021741  0.001082   \n",
       "\n",
       "department       canned goods  dairy eggs      deli  dry goods pasta  ...  \\\n",
       "dependents_flag                                                       ...   \n",
       "No dependent         0.032707    0.166641  0.032746         0.026586  ...   \n",
       "With dependents      0.033046    0.166595  0.032341         0.026799  ...   \n",
       "\n",
       "department       household  international  meat seafood   missing     other  \\\n",
       "dependents_flag                                                               \n",
       "No dependent      0.022322       0.008363      0.021499  0.002110  0.001133   \n",
       "With dependents   0.022948       0.008292      0.022004  0.002142  0.001115   \n",
       "\n",
       "department         pantry  personal care      pets   produce    snacks  \n",
       "dependents_flag                                                         \n",
       "No dependent     0.057641       0.013831  0.003036  0.293369  0.089015  \n",
       "With dependents  0.057951       0.013804  0.003009  0.292259  0.089140  \n",
       "\n",
       "[2 rows x 21 columns]"
      ]
     },
     "execution_count": 80,
     "metadata": {},
     "output_type": "execute_result"
    }
   ],
   "source": [
    "# create a table to compare dependents_flag and deparment\n",
    "#table showing the proportion of products in each department for dependents_flag\n",
    "dependents_dep_cross=pd.crosstab(ords_prods_cus['dependents_flag'], ords_prods_cus['department'], normalize='index', dropna = False)\n",
    "dependents_dep_cross"
   ]
  },
  {
   "cell_type": "code",
   "execution_count": 81,
   "id": "bba3f9e1",
   "metadata": {},
   "outputs": [],
   "source": [
    "dependents_dep_cross.to_clipboard()"
   ]
  },
  {
   "cell_type": "markdown",
   "id": "3d1e38e3",
   "metadata": {},
   "source": [
    "### 9e. distribution of babies and international goods across US region"
   ]
  },
  {
   "cell_type": "code",
   "execution_count": 82,
   "id": "f7a9fd35",
   "metadata": {},
   "outputs": [
    {
     "data": {
      "image/png": "[encoded data removed]",
      "text/plain": [
       "<Figure size 432x288 with 1 Axes>"
      ]
     },
     "metadata": {
      "needs_background": "light"
     },
     "output_type": "display_data"
    }
   ],
   "source": [
    "# Bar chart of babies goods distribution across US region\n",
    "babies_bar=parents.groupby('region')['department'].value_counts().sort_values().plot.bar(color=['blue'],\n",
    "                                                                           fontsize=14)"
   ]
  },
  {
   "cell_type": "code",
   "execution_count": 83,
   "id": "846bd38b",
   "metadata": {},
   "outputs": [
    {
     "data": {
      "image/png": "[encoded data removed]",
      "text/plain": [
       "<Figure size 432x288 with 1 Axes>"
      ]
     },
     "metadata": {
      "needs_background": "light"
     },
     "output_type": "display_data"
    }
   ],
   "source": [
    "# Bar chart of international goods distribution across US region\n",
    "international_bar=Immigrants.groupby('region')['department'].value_counts().sort_values().plot.bar(color=['green'],\n",
    "                                                                           fontsize=14)"
   ]
  },
  {
   "cell_type": "markdown",
   "id": "cbd6bc91",
   "metadata": {},
   "source": [
    "### 9f. Exporting customers profiles and region visualization"
   ]
  },
  {
   "cell_type": "code",
   "execution_count": 84,
   "id": "1fd3772c",
   "metadata": {},
   "outputs": [],
   "source": [
    "# Export age_regional_chart\n",
    "age_regional_chart.figure.savefig(os.path.join(path, '04 Analysis','visualizations','age_regional_chart.png'))\n",
    "\n",
    "# Export income_regional_chart\n",
    "income_regional_chart.figure.savefig(os.path.join(path, '04 Analysis','visualizations','income_regional_chart.png'))\n",
    "\n",
    "# Export marital_regional_chart\n",
    "marital_regional_chart.figure.savefig(os.path.join(path, '04 Analysis','visualizations','marital_regional_chart.png'))\n",
    "\n",
    "# Export dependents_regional_chart\n",
    "dependents_regional_chart.figure.savefig(os.path.join(path, '04 Analysis','visualizations','dependents_regional_chart.png'))\n",
    "\n",
    "# Export babies_bar\n",
    "babies_bar.figure.savefig(os.path.join(path, '04 Analysis','visualizations','babies_bar.png'))\n",
    "\n",
    "# Export international_bar\n",
    "international_bar.figure.savefig(os.path.join(path, '04 Analysis','visualizations','international_bar.png'))"
   ]
  },
  {
   "cell_type": "markdown",
   "id": "60b5bfc0",
   "metadata": {},
   "source": [
    "### 10. Other suitable charts."
   ]
  },
  {
   "cell_type": "markdown",
   "id": "358d125a",
   "metadata": {},
   "source": [
    "#### 10a. customers'profile to frequency of order\n",
    "###### chart distribution of Age group to frequency of order\n"
   ]
  },
  {
   "cell_type": "code",
   "execution_count": 85,
   "id": "341ea290",
   "metadata": {},
   "outputs": [],
   "source": [
    "# 100% stacked bar chart for age distribution across frequency of users\n",
    "#create crosstab for age and frequency_flag\n",
    "\n",
    "age_order_frequency = pd.crosstab(index=ords_prods_cus['order_frequency_flag'], columns=ords_prods_cus['age_group'], normalize=\"index\")\n",
    "\n",
    "#creating cross tab to display labels\n",
    "\n",
    "age_order_frequency_labels = pd.crosstab(index=ords_prods_cus['order_frequency_flag'],columns=ords_prods_cus['age_group'])"
   ]
  },
  {
   "cell_type": "code",
   "execution_count": 86,
   "id": "37ffd342",
   "metadata": {},
   "outputs": [
    {
     "data": {
      "image/png": "[encoded data removed]",
      "text/plain": [
       "<Figure size 864x720 with 1 Axes>"
      ]
     },
     "metadata": {
      "needs_background": "light"
     },
     "output_type": "display_data"
    }
   ],
   "source": [
    "#plotting chart\n",
    "age_order_frequency_chart=age_order_frequency.plot(kind='bar', \n",
    "                        stacked=True, \n",
    "                        color=['green','orange','blue'], \n",
    "                        figsize=(12,10))\n",
    "\n",
    "plt.legend(loc=\"upper center\", ncol=4)\n",
    "plt.ylabel(\"proportion\")\n",
    "plt.xlabel(\"Frequency of order\")\n",
    "\n",
    "\n",
    "for n, y in enumerate([*age_order_frequency_labels.index.values]):\n",
    "    for (proportion, count, x_loc) in zip(age_order_frequency.loc[y],\n",
    "                                         age_order_frequency_labels.loc[y],\n",
    "                                          age_order_frequency.loc[y].cumsum()):\n",
    "                \n",
    "        plt.text(y=(x_loc - proportion) + (proportion / 2),\n",
    "                 x=n - 0.11,\n",
    "                 s=f'{count}\\n({np.round(proportion * 100, 1)}%)', \n",
    "                 color=\"black\",\n",
    "                 fontsize=12)\n",
    "\n",
    "plt.show()"
   ]
  },
  {
   "cell_type": "markdown",
   "id": "9d7f2432",
   "metadata": {},
   "source": [
    "###### chart distribution of customers' income to frequency of order"
   ]
  },
  {
   "cell_type": "code",
   "execution_count": 87,
   "id": "209e9b23",
   "metadata": {},
   "outputs": [],
   "source": [
    "# 100% stacked bar chart for income distribution across frequency of users\n",
    "#create crosstab for income and frequency_flag\n",
    "\n",
    "income_order_frequency = pd.crosstab(index=ords_prods_cus['order_frequency_flag'], columns=ords_prods_cus['income_flag'], normalize=\"index\")\n",
    "\n",
    "#creating cross tab to display labels\n",
    "\n",
    "income_order_frequency_labels = pd.crosstab(index=ords_prods_cus['order_frequency_flag'],columns=ords_prods_cus['income_flag'])"
   ]
  },
  {
   "cell_type": "code",
   "execution_count": 88,
   "id": "6f313dc6",
   "metadata": {},
   "outputs": [
    {
     "data": {
      "image/png": "[encoded data removed]",
      "text/plain": [
       "<Figure size 864x720 with 1 Axes>"
      ]
     },
     "metadata": {
      "needs_background": "light"
     },
     "output_type": "display_data"
    }
   ],
   "source": [
    "#plotting chart\n",
    "income_order_frequency_chart=income_order_frequency.plot(kind='bar', \n",
    "                        stacked=True, \n",
    "                        color=['green','orange','blue'], \n",
    "                        figsize=(12,10))\n",
    "\n",
    "plt.legend(loc=\"upper center\", ncol=4)\n",
    "plt.ylabel(\"proportion\")\n",
    "plt.xlabel(\"frequency of order\")\n",
    "\n",
    "\n",
    "for n, y in enumerate([*income_order_frequency_labels.index.values]):\n",
    "    for (proportion, count, x_loc) in zip(income_order_frequency.loc[y],\n",
    "                                         income_order_frequency_labels.loc[y],\n",
    "                                          income_order_frequency.loc[y].cumsum()):\n",
    "                \n",
    "        plt.text(y=(x_loc - proportion) + (proportion / 2),\n",
    "                 x=n - 0.11,\n",
    "                 s=f'{count}\\n({np.round(proportion * 100, 1)}%)', \n",
    "                 color=\"black\",\n",
    "                 fontsize=12)\n",
    "\n",
    "plt.show()"
   ]
  },
  {
   "cell_type": "markdown",
   "id": "c72befc0",
   "metadata": {},
   "source": [
    "###### chart distribution of customers'  marital status to frequency of order"
   ]
  },
  {
   "cell_type": "code",
   "execution_count": 89,
   "id": "ace8d141",
   "metadata": {},
   "outputs": [],
   "source": [
    "# 100% stacked bar chart for marital  statusdistribution across frequency of users\n",
    "#create crosstab for marital status and frequency_flag\n",
    "\n",
    "marital_order_frequency = pd.crosstab(index=ords_prods_cus['order_frequency_flag'], columns=ords_prods_cus['marital_status'], normalize=\"index\")\n",
    "\n",
    "#creating cross tab to display labels\n",
    "\n",
    "marital_order_frequency_labels = pd.crosstab(index=ords_prods_cus['order_frequency_flag'],columns=ords_prods_cus['marital_status'])"
   ]
  },
  {
   "cell_type": "code",
   "execution_count": 90,
   "id": "6e1b6e92",
   "metadata": {},
   "outputs": [
    {
     "data": {
      "image/png": "[encoded data removed]",
      "text/plain": [
       "<Figure size 864x720 with 1 Axes>"
      ]
     },
     "metadata": {
      "needs_background": "light"
     },
     "output_type": "display_data"
    }
   ],
   "source": [
    "#plotting chart\n",
    "marital_order_frequency_chart=marital_order_frequency.plot(kind='bar', \n",
    "                        stacked=True, \n",
    "                        color=['blue','orange','green','purple'], \n",
    "                        figsize=(12,10))\n",
    "\n",
    "plt.legend(loc=\"upper center\", ncol=4)\n",
    "plt.ylabel(\"proportion\")\n",
    "plt.xlabel(\"frequency of order\")\n",
    "\n",
    "\n",
    "for n, y in enumerate([*marital_order_frequency_labels.index.values]):\n",
    "    for (proportion, count, x_loc) in zip(marital_order_frequency.loc[y],\n",
    "                                         marital_order_frequency_labels.loc[y],\n",
    "                                          marital_order_frequency.loc[y].cumsum()):\n",
    "                \n",
    "        plt.text(y=(x_loc - proportion) + (proportion / 2),\n",
    "                 x=n - 0.11,\n",
    "                 s=f'{count}\\n({np.round(proportion * 100, 1)}%)', \n",
    "                 color=\"black\",\n",
    "                 fontsize=12)\n",
    "\n",
    "plt.show()"
   ]
  },
  {
   "cell_type": "markdown",
   "id": "5be156ca",
   "metadata": {},
   "source": [
    "###### chart distribution of customers' dependents status to frequency of order"
   ]
  },
  {
   "cell_type": "code",
   "execution_count": 91,
   "id": "9edb1f12",
   "metadata": {},
   "outputs": [],
   "source": [
    "# 100% stacked bar chart for dependents status distribution across frequency of users\n",
    "#create crosstab for dependents status and frequency_flag\n",
    "\n",
    "dep_order_frequency = pd.crosstab(index=ords_prods_cus['order_frequency_flag'], columns=ords_prods_cus['dependents_flag'], normalize=\"index\")\n",
    "\n",
    "#creating cross tab to display labels\n",
    "\n",
    "dep_order_frequency_labels = pd.crosstab(index=ords_prods_cus['order_frequency_flag'],columns=ords_prods_cus['dependents_flag'])"
   ]
  },
  {
   "cell_type": "code",
   "execution_count": 92,
   "id": "90faa86e",
   "metadata": {},
   "outputs": [
    {
     "data": {
      "image/png": "[encoded data removed]",
      "text/plain": [
       "<Figure size 864x720 with 1 Axes>"
      ]
     },
     "metadata": {
      "needs_background": "light"
     },
     "output_type": "display_data"
    }
   ],
   "source": [
    "#plotting chart\n",
    "dep_order_frequency_chart=dep_order_frequency.plot(kind='bar', \n",
    "                        stacked=True, \n",
    "                        color=['blue','orange'], \n",
    "                        figsize=(12,10))\n",
    "\n",
    "plt.legend(loc=\"upper center\", ncol=4)\n",
    "plt.ylabel(\"proportion\")\n",
    "plt.xlabel(\"frequency of order\")\n",
    "\n",
    "\n",
    "for n, y in enumerate([*dep_order_frequency_labels.index.values]):\n",
    "    for (proportion, count, x_loc) in zip(dep_order_frequency.loc[y],\n",
    "                                         dep_order_frequency_labels.loc[y],\n",
    "                                          dep_order_frequency.loc[y].cumsum()):\n",
    "                \n",
    "        plt.text(y=(x_loc - proportion) + (proportion / 2),\n",
    "                 x=n - 0.11,\n",
    "                 s=f'{count}\\n({np.round(proportion * 100, 1)}%)', \n",
    "                 color=\"black\",\n",
    "                 fontsize=12)\n",
    "\n",
    "plt.show()"
   ]
  },
  {
   "cell_type": "markdown",
   "id": "d0e57cf6",
   "metadata": {},
   "source": [
    "###### distribution of babies and international goods to order frequency"
   ]
  },
  {
   "cell_type": "code",
   "execution_count": 93,
   "id": "7d5a3341",
   "metadata": {},
   "outputs": [
    {
     "data": {
      "image/png": "[encoded data removed]",
      "text/plain": [
       "<Figure size 432x288 with 1 Axes>"
      ]
     },
     "metadata": {
      "needs_background": "light"
     },
     "output_type": "display_data"
    }
   ],
   "source": [
    "# Bar chart of babies goods distribution across US region\n",
    "babies_freq_bar=parents.groupby('order_frequency_flag')['department'].value_counts().sort_values().plot.bar(color=['blue'],\n",
    "                                                                           fontsize=14)"
   ]
  },
  {
   "cell_type": "code",
   "execution_count": 94,
   "id": "7c366e17",
   "metadata": {},
   "outputs": [
    {
     "data": {
      "image/png": "[encoded data removed]",
      "text/plain": [
       "<Figure size 432x288 with 1 Axes>"
      ]
     },
     "metadata": {
      "needs_background": "light"
     },
     "output_type": "display_data"
    }
   ],
   "source": [
    "# Bar chart of international goods distribution across US region\n",
    "international_freq_bar=Immigrants.groupby('order_frequency_flag')['department'].value_counts().sort_values().plot.bar(color=['green'],\n",
    "                                                                           fontsize=14)"
   ]
  },
  {
   "cell_type": "markdown",
   "id": "02e40d4a",
   "metadata": {},
   "source": [
    "######  Exporting distribution of customers profiles to order frequency"
   ]
  },
  {
   "cell_type": "code",
   "execution_count": 95,
   "id": "2e795e15",
   "metadata": {},
   "outputs": [],
   "source": [
    "# Export age_order_frequency_chart\n",
    "age_order_frequency_chart.figure.savefig(os.path.join(path, '04 Analysis','visualizations','age_order_frequency_chart.png'))\n",
    "\n",
    "# Export income_order_frequency_chart\n",
    "income_order_frequency_chart.figure.savefig(os.path.join(path, '04 Analysis','visualizations','income_order_frequency_chart.png'))\n",
    "\n",
    "# Export marital_order_frequency_chart\n",
    "marital_order_frequency_chart.figure.savefig(os.path.join(path, '04 Analysis','visualizations','marital_order_frequency_chart.png'))\n",
    "\n",
    "# Export dep_order_frequency_chart\n",
    "dep_order_frequency_chart.figure.savefig(os.path.join(path, '04 Analysis','visualizations','dep_order_frequency_chart.png'))\n",
    "\n",
    "# Export babies_frequency_bar\n",
    "babies_freq_bar.figure.savefig(os.path.join(path, '04 Analysis','visualizations','babies_frequency_bar.png'))\n",
    "\n",
    "# Export international_frequency_bar\n",
    "international_freq_bar.figure.savefig(os.path.join(path, '04 Analysis','visualizations','international_freq_bar.png'))"
   ]
  },
  {
   "cell_type": "markdown",
   "id": "728ac360",
   "metadata": {},
   "source": [
    "### 10b. Frequency of product orders visualization"
   ]
  },
  {
   "cell_type": "code",
   "execution_count": 96,
   "id": "9214861f",
   "metadata": {},
   "outputs": [],
   "source": [
    "#defining function to show labels on charts\n",
    "def show_values(axs, orient=\"v\", space=.01):\n",
    "    def _single(ax):\n",
    "        if orient == \"v\":\n",
    "            for p in ax.patches:\n",
    "                _x = p.get_x() + p.get_width() / 2\n",
    "                _y = p.get_y() + p.get_height() + (p.get_height()*0.01)\n",
    "                value = '{:.1f}'.format(p.get_height())\n",
    "                ax.text(_x, _y, value, ha=\"center\") \n",
    "        elif orient == \"h\":\n",
    "            for p in ax.patches:\n",
    "                _x = p.get_x() + p.get_width() + float(space)\n",
    "                _y = p.get_y() + p.get_height() - (p.get_height()*0.5)\n",
    "                value = '{:.1f}'.format(p.get_width())\n",
    "                ax.text(_x, _y, value, ha=\"left\")\n",
    "\n",
    "    if isinstance(axs, np.ndarray):\n",
    "        for idx, ax in np.ndenumerate(axs):\n",
    "            _single(ax)\n",
    "    else:\n",
    "        _single(axs)"
   ]
  },
  {
   "cell_type": "code",
   "execution_count": 97,
   "id": "98b72587",
   "metadata": {},
   "outputs": [
    {
     "data": {
      "image/png": "[encoded data removed]",
      "text/plain": [
       "<Figure size 1008x864 with 1 Axes>"
      ]
     },
     "metadata": {
      "needs_background": "light"
     },
     "output_type": "display_data"
    }
   ],
   "source": [
    "# bar chart showing the orders made for each department\n",
    "department_bar=ords_prods_cus.department.value_counts().sort_values().plot(kind = 'barh',color=['green'],figsize=[14,12])\n",
    "show_values(department_bar, \"h\", space=0)"
   ]
  },
  {
   "cell_type": "code",
   "execution_count": null,
   "id": "a777800e",
   "metadata": {},
   "outputs": [],
   "source": []
  },
  {
   "cell_type": "markdown",
   "id": "be366e64",
   "metadata": {},
   "source": [
    "### 10c. Customers' loyalty and spender visualization"
   ]
  },
  {
   "cell_type": "code",
   "execution_count": 98,
   "id": "57b28931",
   "metadata": {},
   "outputs": [
    {
     "data": {
      "text/plain": [
       "New customer        111529\n",
       "Regular customer     76864\n",
       "Loyal customer       17017\n",
       "Name: loyalty_flag, dtype: int64"
      ]
     },
     "execution_count": 98,
     "metadata": {},
     "output_type": "execute_result"
    }
   ],
   "source": [
    "#distribution of customer loyalty\n",
    "#creating subset with userid and loyalty columns\n",
    "users_loyalty=ords_prods_cus[['user_id','loyalty_flag']]\n",
    "#removing duplicate values\n",
    "users_loyalty_unique=users_loyalty.drop_duplicates()\n",
    "#checking frequency of loyalty_flag\n",
    "users_loyalty_unique['loyalty_flag'].value_counts()"
   ]
  },
  {
   "cell_type": "code",
   "execution_count": 99,
   "id": "2065ea71",
   "metadata": {},
   "outputs": [
    {
     "data": {
      "image/png": "[encoded data removed]",
      "text/plain": [
       "<Figure size 432x288 with 1 Axes>"
      ]
     },
     "metadata": {},
     "output_type": "display_data"
    }
   ],
   "source": [
    "# pie chart for loyalty flag\n",
    "labels = 'New customer', 'Regular customer', 'Loyal customer'\n",
    "sizes = users_loyalty_unique['loyalty_flag'].value_counts()\n",
    "colors = ['royalblue','cornflowerblue','lightsteelblue']\n",
    "textprops = {\"fontsize\":14}\n",
    "\n",
    "loyal, ax = plt.subplots()\n",
    "ax.pie(sizes,labels=labels,colors=colors,autopct='%1.1f%%',\n",
    "        shadow=True, startangle=90,textprops=textprops)\n",
    "ax.axis('equal')  \n",
    "\n",
    "plt.show()"
   ]
  },
  {
   "cell_type": "code",
   "execution_count": 100,
   "id": "8047a223",
   "metadata": {},
   "outputs": [
    {
     "data": {
      "text/plain": [
       "Mid-range product     205196\n",
       "Low-range product     204071\n",
       "High-range product     91013\n",
       "Name: price_range_loc, dtype: int64"
      ]
     },
     "execution_count": 100,
     "metadata": {},
     "output_type": "execute_result"
    }
   ],
   "source": [
    "#distribution of spender\n",
    "#creating subset with userid and spender columns\n",
    "users_prices=ords_prods_cus[['user_id','price_range_loc']]\n",
    "#removing duplicate values\n",
    "users_prices_unique=users_prices.drop_duplicates()\n",
    "#checking frequency of spender_flag\n",
    "users_prices_unique['price_range_loc'].value_counts()"
   ]
  },
  {
   "cell_type": "code",
   "execution_count": 101,
   "id": "dc12ff1a",
   "metadata": {},
   "outputs": [
    {
     "data": {
      "image/png": "[encoded data removed]",
      "text/plain": [
       "<Figure size 432x288 with 1 Axes>"
      ]
     },
     "metadata": {},
     "output_type": "display_data"
    }
   ],
   "source": [
    "# pie chart for price range\n",
    "labels = 'Mid-range product', 'Low-range product', 'High-range product'\n",
    "sizes = users_prices_unique['price_range_loc'].value_counts()\n",
    "colors = ['royalblue','cornflowerblue','lightsteelblue']\n",
    "textprops = {\"fontsize\":14}\n",
    "\n",
    "Price_range_fig, ax = plt.subplots()\n",
    "ax.pie(sizes,labels=labels,colors=colors,autopct='%1.1f%%',\n",
    "        shadow=True, startangle=90,textprops=textprops)\n",
    "ax.axis('equal')  \n",
    "\n",
    "plt.show()"
   ]
  },
  {
   "cell_type": "code",
   "execution_count": 102,
   "id": "521f3e58",
   "metadata": {},
   "outputs": [],
   "source": [
    "#Export visuals\n",
    "# Export department_bar\n",
    "department_bar.figure.savefig(os.path.join(path, '04 Analysis','visualizations','department_bar.png'))\n",
    "\n",
    "# Export loyal_flag pie chart\n",
    "loyal.figure.savefig(os.path.join(path, '04 Analysis','visualizations','loyal.png'))\n",
    "\n",
    "# Export Price_range_loc pie chart\n",
    "Price_range_fig.figure.savefig(os.path.join(path, '04 Analysis','visualizations','Price_range_fig.png'))"
   ]
  },
  {
   "cell_type": "code",
   "execution_count": 103,
   "id": "f2230a1a",
   "metadata": {},
   "outputs": [],
   "source": [
    "# Export final dataset\n",
    "ords_prods_cus.to_pickle(os.path.join(path,'02 Data','Prepared Data(cleaned)','Final datasets.pkl'))"
   ]
  },
  {
   "cell_type": "code",
   "execution_count": null,
   "id": "4358b7c6",
   "metadata": {},
   "outputs": [],
   "source": []
  }
 ],
 "metadata": {
  "kernelspec": {
   "display_name": "Python 3 (ipykernel)",
   "language": "python",
   "name": "python3"
  },
  "language_info": {
   "codemirror_mode": {
    "name": "ipython",
    "version": 3
   },
   "file_extension": ".py",
   "mimetype": "text/x-python",
   "name": "python",
   "nbconvert_exporter": "python",
   "pygments_lexer": "ipython3",
   "version": "3.9.12"
  }
 },
 "nbformat": 4,
 "nbformat_minor": 5
}
